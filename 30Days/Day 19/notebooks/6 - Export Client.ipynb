{
 "cells": [
  {
   "cell_type": "code",
   "execution_count": 2,
   "id": "11ce9278",
   "metadata": {},
   "outputs": [
    {
     "name": "stderr",
     "output_type": "stream",
     "text": [
      "C:\\Users\\rober\\coding\\api_projects\\.venv\\lib\\site-packages\\traitlets\\traitlets.py:2392: FutureWarning: Supporting extra quotes around strings is deprecated in traitlets 5.0. You can use '../client' instead of \"'../client'\" if you require traitlets >=5.\n",
      "  warn(\n",
      "[NbConvertApp] Converting notebook spotify_client.ipynb to python\n",
      "[NbConvertApp] Writing 4296 bytes to ..\\client\\spotify_client.py\n"
     ]
    }
   ],
   "source": [
    "!jupyter nbconvert --output-dir='../client' --to python spotify_client.ipynb"
   ]
  },
  {
   "cell_type": "code",
   "execution_count": null,
   "id": "36064f83",
   "metadata": {},
   "outputs": [],
   "source": []
  }
 ],
 "metadata": {
  "kernelspec": {
   "display_name": "Python 3 (ipykernel)",
   "language": "python",
   "name": "python3"
  },
  "language_info": {
   "codemirror_mode": {
    "name": "ipython",
    "version": 3
   },
   "file_extension": ".py",
   "mimetype": "text/x-python",
   "name": "python",
   "nbconvert_exporter": "python",
   "pygments_lexer": "ipython3",
   "version": "3.10.1"
  }
 },
 "nbformat": 4,
 "nbformat_minor": 5
}
