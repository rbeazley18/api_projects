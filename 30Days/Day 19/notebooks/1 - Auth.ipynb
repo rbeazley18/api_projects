{
 "cells": [
  {
   "cell_type": "code",
   "execution_count": 1,
   "id": "90fe6722",
   "metadata": {},
   "outputs": [],
   "source": [
    "import datetime\n",
    "import requests\n",
    "import base64"
   ]
  },
  {
   "cell_type": "code",
   "execution_count": 2,
   "id": "bed61454",
   "metadata": {},
   "outputs": [],
   "source": [
    "client_id = ''\n",
    "client_secret = ''"
   ]
  },
  {
   "cell_type": "code",
   "execution_count": 3,
   "id": "637c5c27",
   "metadata": {},
   "outputs": [],
   "source": [
    "# do a token lookup for future requests"
   ]
  },
  {
   "cell_type": "code",
   "execution_count": 4,
   "id": "7308b8f7",
   "metadata": {},
   "outputs": [
    {
     "data": {
      "text/plain": [
       "str"
      ]
     },
     "execution_count": 4,
     "metadata": {},
     "output_type": "execute_result"
    }
   ],
   "source": [
    "client_creds = f'{client_id}:{client_secret}'\n",
    "type(client_creds)"
   ]
  },
  {
   "cell_type": "code",
   "execution_count": 5,
   "id": "530d2f33",
   "metadata": {},
   "outputs": [],
   "source": [
    "client_creds_b64 = base64.b64encode(client_creds.encode())\n",
    "# print(client_creds_b64)"
   ]
  },
  {
   "cell_type": "code",
   "execution_count": 6,
   "id": "d6c2e6a5",
   "metadata": {},
   "outputs": [],
   "source": [
    "token_url = 'https://accounts.spotify.com/api/token'\n",
    "mehtod = 'POST'\n",
    "token_data = {\n",
    "    'grant_type': 'client_credentials'\n",
    "}\n",
    "token_headers = {\n",
    "    'Authorization': f'Basic {client_creds_b64.decode()}' # Basic <base64 encoded client_id:client_secret>\n",
    "}\n"
   ]
  },
  {
   "cell_type": "code",
   "execution_count": 7,
   "id": "9b1f706f",
   "metadata": {},
   "outputs": [
    {
     "name": "stdout",
     "output_type": "stream",
     "text": [
      "{'access_token': 'BQAo663ncJbwGMsyrbfMQpczIkjG4EQJQa2ISoeJdWctrcCyJFc3OVBTfRuovSupYZxPsELcwt7RJxaKpMHRRHa1bS0VQRuiV3X57mPrf3pSKUBvDFE', 'token_type': 'Bearer', 'expires_in': 3600}\n"
     ]
    }
   ],
   "source": [
    "r = requests.post(token_url, data=token_data, headers=token_headers)\n",
    "print(r.json())\n",
    "valid_request = r.status_code in range(200, 299)"
   ]
  },
  {
   "cell_type": "code",
   "execution_count": 8,
   "id": "867c8e5a",
   "metadata": {},
   "outputs": [],
   "source": [
    "if valid_request:\n",
    "    token_response_data = r.json()\n",
    "    now = datetime.datetime.now()\n",
    "    access_token = token_response_data['access_token']\n",
    "    expires_in = token_response_data['expires_in'] # seconds\n",
    "    expires = now + datetime.timedelta(seconds=expires_in)\n",
    "    did_expire = expires < now"
   ]
  },
  {
   "cell_type": "code",
   "execution_count": null,
   "id": "730d4856",
   "metadata": {},
   "outputs": [],
   "source": []
  }
 ],
 "metadata": {
  "kernelspec": {
   "display_name": "Python 3.10.1 ('.venv': venv)",
   "language": "python",
   "name": "python3"
  },
  "language_info": {
   "codemirror_mode": {
    "name": "ipython",
    "version": 3
   },
   "file_extension": ".py",
   "mimetype": "text/x-python",
   "name": "python",
   "nbconvert_exporter": "python",
   "pygments_lexer": "ipython3",
   "version": "3.10.1"
  },
  "vscode": {
   "interpreter": {
    "hash": "a26dbe22f53eeb63b224f72697d52c690bd8e1320192204383aedc827dc837f2"
   }
  }
 },
 "nbformat": 4,
 "nbformat_minor": 5
}
