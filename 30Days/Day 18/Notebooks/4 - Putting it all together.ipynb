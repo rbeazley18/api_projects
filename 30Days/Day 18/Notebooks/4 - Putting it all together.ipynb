{
 "cells": [
  {
   "cell_type": "code",
   "execution_count": 1,
   "id": "7cc14b0a",
   "metadata": {},
   "outputs": [],
   "source": [
    "from pathlib import Path\n",
    "import re\n",
    "import pandas as pd\n",
    "import requests\n",
    "import time\n",
    "import datetime\n",
    "from requests_html import HTML\n",
    "from selenium import webdriver\n",
    "from selenium.webdriver.chrome.service import Service\n",
    "from webdriver_manager.chrome import ChromeDriverManager\n",
    "from selenium.webdriver.common.by import By\n",
    "from selenium.webdriver.chrome.options import Options"
   ]
  },
  {
   "cell_type": "code",
   "execution_count": 2,
   "id": "a025b461",
   "metadata": {},
   "outputs": [],
   "source": [
    "BASE_DIR = Path.cwd()\n",
    "DATA_DIR = BASE_DIR / 'data' # same as os.path.join(BASE_DIR, 'data')\n",
    "if not DATA_DIR.exists():\n",
    "    DATA_DIR.mkdir(exist_ok=True)\n",
    "\n",
    "product_category_links_output = DATA_DIR / 'category-products.csv'\n",
    "product_output = DATA_DIR / 'products.csv'"
   ]
  },
  {
   "cell_type": "code",
   "execution_count": 3,
   "id": "90b6e101",
   "metadata": {},
   "outputs": [
    {
     "name": "stdout",
     "output_type": "stream",
     "text": [
      "\n"
     ]
    }
   ],
   "source": [
    "options = Options()\n",
    "options.add_argument('--headless')\n",
    "driver = webdriver.Chrome(service=Service(ChromeDriverManager().install()), options=options)"
   ]
  },
  {
   "cell_type": "code",
   "execution_count": 4,
   "id": "0c610fd6",
   "metadata": {},
   "outputs": [],
   "source": [
    "categories = [\n",
    "    {\"name\": \"appliances\", \"url\": 'https://www.amazon.com/Best-Sellers-Appliances/zgbs/appliances/'},\n",
    "    {\"name\": \"electronics\", \"url\": 'https://www.amazon.com/Best-Sellers-Electronics/zgbs/electronics/'},\n",
    "    {\"name\": \"books\", \"url\": 'https://www.amazon.com/best-sellers-books-Amazon/zgbs/books/'}\n",
    "]\n"
   ]
  },
  {
   "cell_type": "code",
   "execution_count": 5,
   "id": "104adcc6",
   "metadata": {},
   "outputs": [],
   "source": [
    "regex_options = [\n",
    "    r\"https://www.amazon.com/gp/product/(?P<product_id>[\\w-]+)/\",\n",
    "    r\"https://www.amazon.com/dp/(?P<product_id>[\\w-]+)/\",\n",
    "    r\"https://www.amazon.com/(?P<slug>[\\w-]+)/dp/(?P<product_id>[\\w-]+)/\",\n",
    "]\n",
    "\n",
    "def extract_product_id_from_url(url):\n",
    "    product_id = None\n",
    "    for regex_str in regex_options:\n",
    "        regex = re.compile(regex_str)\n",
    "        match = regex.match(url)\n",
    "        if match != None:\n",
    "            try:\n",
    "                product_id = match['product_id']\n",
    "            except:\n",
    "                pass\n",
    "    return product_id"
   ]
  },
  {
   "cell_type": "code",
   "execution_count": 6,
   "id": "3f3a331a",
   "metadata": {},
   "outputs": [],
   "source": [
    "def clean_page_links(page_links=[], category=None):\n",
    "    final_page_links = []\n",
    "    for url in page_links:\n",
    "        product_id = extract_product_id_from_url(url)\n",
    "        if product_id != None:\n",
    "            final_page_links.append({\"url\": url, \"product_id\": product_id, \"category\": category})\n",
    "    return final_page_links"
   ]
  },
  {
   "cell_type": "code",
   "execution_count": 7,
   "id": "d3200706",
   "metadata": {},
   "outputs": [],
   "source": [
    "def scrape_category_product_links(categories=[]):\n",
    "    all_product_links = []\n",
    "    for category in categories:\n",
    "        time.sleep(1.5)\n",
    "        url = category.get('url')\n",
    "        driver.get(url)\n",
    "        body_el = driver.find_element(By.CSS_SELECTOR, \"body\")\n",
    "        html_str = body_el.get_attribute('innerHTML')\n",
    "        html_obj = HTML(html=html_str)\n",
    "        page_links = [f'https://www.amazon.com{x}' for x in html_obj.links if x.startswith('/')]\n",
    "        cleaned_links = clean_page_links(page_links=page_links, category=category)\n",
    "        all_product_links += cleaned_links\n",
    "    return all_product_links\n",
    "\n"
   ]
  },
  {
   "cell_type": "code",
   "execution_count": 8,
   "id": "016573d9",
   "metadata": {},
   "outputs": [],
   "source": [
    "def extract_categories_and_save(categories=[]):\n",
    "    all_product_links = scrape_category_product_links(categories)\n",
    "    category_df = pd.DataFrame(all_product_links)\n",
    "    category_df.to_csv(product_category_links_output, index=False)"
   ]
  },
  {
   "cell_type": "code",
   "execution_count": 9,
   "id": "eb927bad",
   "metadata": {},
   "outputs": [],
   "source": [
    "extract_categories_and_save(categories=categories)"
   ]
  },
  {
   "cell_type": "code",
   "execution_count": 10,
   "id": "f166e399",
   "metadata": {},
   "outputs": [],
   "source": [
    "def scrape_product_page(url, title_lookup = '#productTitle', price_lookup = '.a-price-whole'):\n",
    "    driver.get(url)\n",
    "    time.sleep(.5)\n",
    "    body_el = driver.find_element(By.CSS_SELECTOR, \"body\")\n",
    "    html_str = body_el.get_attribute('innerHTML')\n",
    "    html_obj = HTML(html=html_str)\n",
    "    product_title = html_obj.find(title_lookup, first=True).text\n",
    "    product_price = html_obj.find(price_lookup, first=True).text\n",
    "    return product_title, product_price"
   ]
  },
  {
   "cell_type": "code",
   "execution_count": 11,
   "id": "bf31835f",
   "metadata": {},
   "outputs": [],
   "source": [
    "def perform_scrape(cleaned_items=[]):\n",
    "    data_extracted = []\n",
    "    for obj in cleaned_items:\n",
    "        link = obj['url']\n",
    "        product_id = obj['product_id']\n",
    "        title, price = (None, None)\n",
    "        try:\n",
    "            title, price = scrape_product_page(link)\n",
    "        except:\n",
    "            pass\n",
    "        if title != None and price != None:\n",
    "            print(link, title, price)\n",
    "        product_data = {'url': link, 'product_id': product_id, 'title': title, 'price': price}\n",
    "        data_extracted.append(product_data)\n",
    "    return data_extracted"
   ]
  },
  {
   "cell_type": "code",
   "execution_count": 12,
   "id": "6ba4f2b9",
   "metadata": {},
   "outputs": [],
   "source": [
    "# extracted_data = perform_scrape(cleaned_items=cleaned_links)"
   ]
  },
  {
   "cell_type": "code",
   "execution_count": 13,
   "id": "52762e11",
   "metadata": {},
   "outputs": [],
   "source": [
    "# print(extracted_data)"
   ]
  },
  {
   "cell_type": "code",
   "execution_count": 14,
   "id": "1392c9d6",
   "metadata": {},
   "outputs": [],
   "source": [
    "def row_scrape_event(row, *args, **kwargs):\n",
    "    link = row['url']\n",
    "    scraped = 0\n",
    "    try:\n",
    "        scraped = row['scraped']\n",
    "    except:\n",
    "        pass\n",
    "    if scraped == 1 or scraped == '1':\n",
    "        return row\n",
    "    product_id = row['product_id']\n",
    "    title, price = (None, None)\n",
    "    try:\n",
    "        title, price = scrape_product_page(link)\n",
    "    except:\n",
    "        pass\n",
    "    row['title'] = title\n",
    "    row['price'] = price\n",
    "    row['scraped'] = 1\n",
    "    row['timestamp'] = datetime.datetime.now().timestamp()\n",
    "    return row"
   ]
  },
  {
   "cell_type": "code",
   "execution_count": 15,
   "id": "614277c1",
   "metadata": {},
   "outputs": [
    {
     "data": {
      "text/html": [
       "<div>\n",
       "<style scoped>\n",
       "    .dataframe tbody tr th:only-of-type {\n",
       "        vertical-align: middle;\n",
       "    }\n",
       "\n",
       "    .dataframe tbody tr th {\n",
       "        vertical-align: top;\n",
       "    }\n",
       "\n",
       "    .dataframe thead th {\n",
       "        text-align: right;\n",
       "    }\n",
       "</style>\n",
       "<table border=\"1\" class=\"dataframe\">\n",
       "  <thead>\n",
       "    <tr style=\"text-align: right;\">\n",
       "      <th></th>\n",
       "      <th>url</th>\n",
       "      <th>product_id</th>\n",
       "      <th>category</th>\n",
       "    </tr>\n",
       "  </thead>\n",
       "  <tbody>\n",
       "    <tr>\n",
       "      <th>0</th>\n",
       "      <td>https://www.amazon.com/VIVOHOME-Electric-Porta...</td>\n",
       "      <td>B07T1XPVX3</td>\n",
       "      <td>{'name': 'appliances', 'url': 'https://www.ama...</td>\n",
       "    </tr>\n",
       "    <tr>\n",
       "      <th>1</th>\n",
       "      <td>https://www.amazon.com/hOmeLabs-Portable-Maker...</td>\n",
       "      <td>B071J2LSQS</td>\n",
       "      <td>{'name': 'appliances', 'url': 'https://www.ama...</td>\n",
       "    </tr>\n",
       "    <tr>\n",
       "      <th>2</th>\n",
       "      <td>https://www.amazon.com/GE-Profile-Countertop-N...</td>\n",
       "      <td>B07YF9SGBW</td>\n",
       "      <td>{'name': 'appliances', 'url': 'https://www.ama...</td>\n",
       "    </tr>\n",
       "    <tr>\n",
       "      <th>3</th>\n",
       "      <td>https://www.amazon.com/Frigidaire-Countertop-M...</td>\n",
       "      <td>B07J1YVSNQ</td>\n",
       "      <td>{'name': 'appliances', 'url': 'https://www.ama...</td>\n",
       "    </tr>\n",
       "    <tr>\n",
       "      <th>4</th>\n",
       "      <td>https://www.amazon.com/Countertop-Portable-Sel...</td>\n",
       "      <td>B09MJWFL31</td>\n",
       "      <td>{'name': 'appliances', 'url': 'https://www.ama...</td>\n",
       "    </tr>\n",
       "  </tbody>\n",
       "</table>\n",
       "</div>"
      ],
      "text/plain": [
       "                                                 url  product_id  \\\n",
       "0  https://www.amazon.com/VIVOHOME-Electric-Porta...  B07T1XPVX3   \n",
       "1  https://www.amazon.com/hOmeLabs-Portable-Maker...  B071J2LSQS   \n",
       "2  https://www.amazon.com/GE-Profile-Countertop-N...  B07YF9SGBW   \n",
       "3  https://www.amazon.com/Frigidaire-Countertop-M...  B07J1YVSNQ   \n",
       "4  https://www.amazon.com/Countertop-Portable-Sel...  B09MJWFL31   \n",
       "\n",
       "                                            category  \n",
       "0  {'name': 'appliances', 'url': 'https://www.ama...  \n",
       "1  {'name': 'appliances', 'url': 'https://www.ama...  \n",
       "2  {'name': 'appliances', 'url': 'https://www.ama...  \n",
       "3  {'name': 'appliances', 'url': 'https://www.ama...  \n",
       "4  {'name': 'appliances', 'url': 'https://www.ama...  "
      ]
     },
     "execution_count": 15,
     "metadata": {},
     "output_type": "execute_result"
    }
   ],
   "source": [
    "df = pd.read_csv(product_category_links_output)\n",
    "df.head()"
   ]
  },
  {
   "cell_type": "code",
   "execution_count": 16,
   "id": "55b719e4",
   "metadata": {},
   "outputs": [
    {
     "data": {
      "text/plain": [
       "(89, 3)"
      ]
     },
     "execution_count": 16,
     "metadata": {},
     "output_type": "execute_result"
    }
   ],
   "source": [
    "df.shape"
   ]
  },
  {
   "cell_type": "code",
   "execution_count": 17,
   "id": "71ea591a",
   "metadata": {},
   "outputs": [],
   "source": [
    "df_sub = df.copy() #head(n=10)"
   ]
  },
  {
   "cell_type": "code",
   "execution_count": 18,
   "id": "8a614af3",
   "metadata": {},
   "outputs": [],
   "source": [
    "df_sub = df_sub.apply(row_scrape_event, axis=1)"
   ]
  },
  {
   "cell_type": "code",
   "execution_count": 19,
   "id": "fe38187f",
   "metadata": {},
   "outputs": [],
   "source": [
    "# df.to_csv(product_output, index=False)"
   ]
  },
  {
   "cell_type": "code",
   "execution_count": 20,
   "id": "e3425679",
   "metadata": {},
   "outputs": [
    {
     "ename": "FileNotFoundError",
     "evalue": "[Errno 2] No such file or directory: 'C:\\\\Users\\\\rober\\\\coding\\\\api_projects\\\\30Days\\\\Day 18\\\\Notebooks\\\\data\\\\products.csv'",
     "output_type": "error",
     "traceback": [
      "\u001b[1;31m---------------------------------------------------------------------------\u001b[0m",
      "\u001b[1;31mFileNotFoundError\u001b[0m                         Traceback (most recent call last)",
      "Input \u001b[1;32mIn [20]\u001b[0m, in \u001b[0;36m<cell line: 1>\u001b[1;34m()\u001b[0m\n\u001b[1;32m----> 1\u001b[0m products_df \u001b[38;5;241m=\u001b[39m \u001b[43mpd\u001b[49m\u001b[38;5;241;43m.\u001b[39;49m\u001b[43mread_csv\u001b[49m\u001b[43m(\u001b[49m\u001b[43mproduct_output\u001b[49m\u001b[43m)\u001b[49m\n\u001b[0;32m      2\u001b[0m products_df\u001b[38;5;241m.\u001b[39mhead()\n",
      "File \u001b[1;32m~\\coding\\api_projects\\.venv\\lib\\site-packages\\pandas\\util\\_decorators.py:311\u001b[0m, in \u001b[0;36mdeprecate_nonkeyword_arguments.<locals>.decorate.<locals>.wrapper\u001b[1;34m(*args, **kwargs)\u001b[0m\n\u001b[0;32m    305\u001b[0m \u001b[38;5;28;01mif\u001b[39;00m \u001b[38;5;28mlen\u001b[39m(args) \u001b[38;5;241m>\u001b[39m num_allow_args:\n\u001b[0;32m    306\u001b[0m     warnings\u001b[38;5;241m.\u001b[39mwarn(\n\u001b[0;32m    307\u001b[0m         msg\u001b[38;5;241m.\u001b[39mformat(arguments\u001b[38;5;241m=\u001b[39marguments),\n\u001b[0;32m    308\u001b[0m         \u001b[38;5;167;01mFutureWarning\u001b[39;00m,\n\u001b[0;32m    309\u001b[0m         stacklevel\u001b[38;5;241m=\u001b[39mstacklevel,\n\u001b[0;32m    310\u001b[0m     )\n\u001b[1;32m--> 311\u001b[0m \u001b[38;5;28;01mreturn\u001b[39;00m func(\u001b[38;5;241m*\u001b[39margs, \u001b[38;5;241m*\u001b[39m\u001b[38;5;241m*\u001b[39mkwargs)\n",
      "File \u001b[1;32m~\\coding\\api_projects\\.venv\\lib\\site-packages\\pandas\\io\\parsers\\readers.py:680\u001b[0m, in \u001b[0;36mread_csv\u001b[1;34m(filepath_or_buffer, sep, delimiter, header, names, index_col, usecols, squeeze, prefix, mangle_dupe_cols, dtype, engine, converters, true_values, false_values, skipinitialspace, skiprows, skipfooter, nrows, na_values, keep_default_na, na_filter, verbose, skip_blank_lines, parse_dates, infer_datetime_format, keep_date_col, date_parser, dayfirst, cache_dates, iterator, chunksize, compression, thousands, decimal, lineterminator, quotechar, quoting, doublequote, escapechar, comment, encoding, encoding_errors, dialect, error_bad_lines, warn_bad_lines, on_bad_lines, delim_whitespace, low_memory, memory_map, float_precision, storage_options)\u001b[0m\n\u001b[0;32m    665\u001b[0m kwds_defaults \u001b[38;5;241m=\u001b[39m _refine_defaults_read(\n\u001b[0;32m    666\u001b[0m     dialect,\n\u001b[0;32m    667\u001b[0m     delimiter,\n\u001b[1;32m   (...)\u001b[0m\n\u001b[0;32m    676\u001b[0m     defaults\u001b[38;5;241m=\u001b[39m{\u001b[38;5;124m\"\u001b[39m\u001b[38;5;124mdelimiter\u001b[39m\u001b[38;5;124m\"\u001b[39m: \u001b[38;5;124m\"\u001b[39m\u001b[38;5;124m,\u001b[39m\u001b[38;5;124m\"\u001b[39m},\n\u001b[0;32m    677\u001b[0m )\n\u001b[0;32m    678\u001b[0m kwds\u001b[38;5;241m.\u001b[39mupdate(kwds_defaults)\n\u001b[1;32m--> 680\u001b[0m \u001b[38;5;28;01mreturn\u001b[39;00m \u001b[43m_read\u001b[49m\u001b[43m(\u001b[49m\u001b[43mfilepath_or_buffer\u001b[49m\u001b[43m,\u001b[49m\u001b[43m \u001b[49m\u001b[43mkwds\u001b[49m\u001b[43m)\u001b[49m\n",
      "File \u001b[1;32m~\\coding\\api_projects\\.venv\\lib\\site-packages\\pandas\\io\\parsers\\readers.py:575\u001b[0m, in \u001b[0;36m_read\u001b[1;34m(filepath_or_buffer, kwds)\u001b[0m\n\u001b[0;32m    572\u001b[0m _validate_names(kwds\u001b[38;5;241m.\u001b[39mget(\u001b[38;5;124m\"\u001b[39m\u001b[38;5;124mnames\u001b[39m\u001b[38;5;124m\"\u001b[39m, \u001b[38;5;28;01mNone\u001b[39;00m))\n\u001b[0;32m    574\u001b[0m \u001b[38;5;66;03m# Create the parser.\u001b[39;00m\n\u001b[1;32m--> 575\u001b[0m parser \u001b[38;5;241m=\u001b[39m TextFileReader(filepath_or_buffer, \u001b[38;5;241m*\u001b[39m\u001b[38;5;241m*\u001b[39mkwds)\n\u001b[0;32m    577\u001b[0m \u001b[38;5;28;01mif\u001b[39;00m chunksize \u001b[38;5;129;01mor\u001b[39;00m iterator:\n\u001b[0;32m    578\u001b[0m     \u001b[38;5;28;01mreturn\u001b[39;00m parser\n",
      "File \u001b[1;32m~\\coding\\api_projects\\.venv\\lib\\site-packages\\pandas\\io\\parsers\\readers.py:934\u001b[0m, in \u001b[0;36mTextFileReader.__init__\u001b[1;34m(self, f, engine, **kwds)\u001b[0m\n\u001b[0;32m    931\u001b[0m     \u001b[38;5;28mself\u001b[39m\u001b[38;5;241m.\u001b[39moptions[\u001b[38;5;124m\"\u001b[39m\u001b[38;5;124mhas_index_names\u001b[39m\u001b[38;5;124m\"\u001b[39m] \u001b[38;5;241m=\u001b[39m kwds[\u001b[38;5;124m\"\u001b[39m\u001b[38;5;124mhas_index_names\u001b[39m\u001b[38;5;124m\"\u001b[39m]\n\u001b[0;32m    933\u001b[0m \u001b[38;5;28mself\u001b[39m\u001b[38;5;241m.\u001b[39mhandles: IOHandles \u001b[38;5;241m|\u001b[39m \u001b[38;5;28;01mNone\u001b[39;00m \u001b[38;5;241m=\u001b[39m \u001b[38;5;28;01mNone\u001b[39;00m\n\u001b[1;32m--> 934\u001b[0m \u001b[38;5;28mself\u001b[39m\u001b[38;5;241m.\u001b[39m_engine \u001b[38;5;241m=\u001b[39m \u001b[38;5;28;43mself\u001b[39;49m\u001b[38;5;241;43m.\u001b[39;49m\u001b[43m_make_engine\u001b[49m\u001b[43m(\u001b[49m\u001b[43mf\u001b[49m\u001b[43m,\u001b[49m\u001b[43m \u001b[49m\u001b[38;5;28;43mself\u001b[39;49m\u001b[38;5;241;43m.\u001b[39;49m\u001b[43mengine\u001b[49m\u001b[43m)\u001b[49m\n",
      "File \u001b[1;32m~\\coding\\api_projects\\.venv\\lib\\site-packages\\pandas\\io\\parsers\\readers.py:1218\u001b[0m, in \u001b[0;36mTextFileReader._make_engine\u001b[1;34m(self, f, engine)\u001b[0m\n\u001b[0;32m   1214\u001b[0m     mode \u001b[38;5;241m=\u001b[39m \u001b[38;5;124m\"\u001b[39m\u001b[38;5;124mrb\u001b[39m\u001b[38;5;124m\"\u001b[39m\n\u001b[0;32m   1215\u001b[0m \u001b[38;5;66;03m# error: No overload variant of \"get_handle\" matches argument types\u001b[39;00m\n\u001b[0;32m   1216\u001b[0m \u001b[38;5;66;03m# \"Union[str, PathLike[str], ReadCsvBuffer[bytes], ReadCsvBuffer[str]]\"\u001b[39;00m\n\u001b[0;32m   1217\u001b[0m \u001b[38;5;66;03m# , \"str\", \"bool\", \"Any\", \"Any\", \"Any\", \"Any\", \"Any\"\u001b[39;00m\n\u001b[1;32m-> 1218\u001b[0m \u001b[38;5;28mself\u001b[39m\u001b[38;5;241m.\u001b[39mhandles \u001b[38;5;241m=\u001b[39m \u001b[43mget_handle\u001b[49m\u001b[43m(\u001b[49m\u001b[43m  \u001b[49m\u001b[38;5;66;43;03m# type: ignore[call-overload]\u001b[39;49;00m\n\u001b[0;32m   1219\u001b[0m \u001b[43m    \u001b[49m\u001b[43mf\u001b[49m\u001b[43m,\u001b[49m\n\u001b[0;32m   1220\u001b[0m \u001b[43m    \u001b[49m\u001b[43mmode\u001b[49m\u001b[43m,\u001b[49m\n\u001b[0;32m   1221\u001b[0m \u001b[43m    \u001b[49m\u001b[43mencoding\u001b[49m\u001b[38;5;241;43m=\u001b[39;49m\u001b[38;5;28;43mself\u001b[39;49m\u001b[38;5;241;43m.\u001b[39;49m\u001b[43moptions\u001b[49m\u001b[38;5;241;43m.\u001b[39;49m\u001b[43mget\u001b[49m\u001b[43m(\u001b[49m\u001b[38;5;124;43m\"\u001b[39;49m\u001b[38;5;124;43mencoding\u001b[39;49m\u001b[38;5;124;43m\"\u001b[39;49m\u001b[43m,\u001b[49m\u001b[43m \u001b[49m\u001b[38;5;28;43;01mNone\u001b[39;49;00m\u001b[43m)\u001b[49m\u001b[43m,\u001b[49m\n\u001b[0;32m   1222\u001b[0m \u001b[43m    \u001b[49m\u001b[43mcompression\u001b[49m\u001b[38;5;241;43m=\u001b[39;49m\u001b[38;5;28;43mself\u001b[39;49m\u001b[38;5;241;43m.\u001b[39;49m\u001b[43moptions\u001b[49m\u001b[38;5;241;43m.\u001b[39;49m\u001b[43mget\u001b[49m\u001b[43m(\u001b[49m\u001b[38;5;124;43m\"\u001b[39;49m\u001b[38;5;124;43mcompression\u001b[39;49m\u001b[38;5;124;43m\"\u001b[39;49m\u001b[43m,\u001b[49m\u001b[43m \u001b[49m\u001b[38;5;28;43;01mNone\u001b[39;49;00m\u001b[43m)\u001b[49m\u001b[43m,\u001b[49m\n\u001b[0;32m   1223\u001b[0m \u001b[43m    \u001b[49m\u001b[43mmemory_map\u001b[49m\u001b[38;5;241;43m=\u001b[39;49m\u001b[38;5;28;43mself\u001b[39;49m\u001b[38;5;241;43m.\u001b[39;49m\u001b[43moptions\u001b[49m\u001b[38;5;241;43m.\u001b[39;49m\u001b[43mget\u001b[49m\u001b[43m(\u001b[49m\u001b[38;5;124;43m\"\u001b[39;49m\u001b[38;5;124;43mmemory_map\u001b[39;49m\u001b[38;5;124;43m\"\u001b[39;49m\u001b[43m,\u001b[49m\u001b[43m \u001b[49m\u001b[38;5;28;43;01mFalse\u001b[39;49;00m\u001b[43m)\u001b[49m\u001b[43m,\u001b[49m\n\u001b[0;32m   1224\u001b[0m \u001b[43m    \u001b[49m\u001b[43mis_text\u001b[49m\u001b[38;5;241;43m=\u001b[39;49m\u001b[43mis_text\u001b[49m\u001b[43m,\u001b[49m\n\u001b[0;32m   1225\u001b[0m \u001b[43m    \u001b[49m\u001b[43merrors\u001b[49m\u001b[38;5;241;43m=\u001b[39;49m\u001b[38;5;28;43mself\u001b[39;49m\u001b[38;5;241;43m.\u001b[39;49m\u001b[43moptions\u001b[49m\u001b[38;5;241;43m.\u001b[39;49m\u001b[43mget\u001b[49m\u001b[43m(\u001b[49m\u001b[38;5;124;43m\"\u001b[39;49m\u001b[38;5;124;43mencoding_errors\u001b[39;49m\u001b[38;5;124;43m\"\u001b[39;49m\u001b[43m,\u001b[49m\u001b[43m \u001b[49m\u001b[38;5;124;43m\"\u001b[39;49m\u001b[38;5;124;43mstrict\u001b[39;49m\u001b[38;5;124;43m\"\u001b[39;49m\u001b[43m)\u001b[49m\u001b[43m,\u001b[49m\n\u001b[0;32m   1226\u001b[0m \u001b[43m    \u001b[49m\u001b[43mstorage_options\u001b[49m\u001b[38;5;241;43m=\u001b[39;49m\u001b[38;5;28;43mself\u001b[39;49m\u001b[38;5;241;43m.\u001b[39;49m\u001b[43moptions\u001b[49m\u001b[38;5;241;43m.\u001b[39;49m\u001b[43mget\u001b[49m\u001b[43m(\u001b[49m\u001b[38;5;124;43m\"\u001b[39;49m\u001b[38;5;124;43mstorage_options\u001b[39;49m\u001b[38;5;124;43m\"\u001b[39;49m\u001b[43m,\u001b[49m\u001b[43m \u001b[49m\u001b[38;5;28;43;01mNone\u001b[39;49;00m\u001b[43m)\u001b[49m\u001b[43m,\u001b[49m\n\u001b[0;32m   1227\u001b[0m \u001b[43m\u001b[49m\u001b[43m)\u001b[49m\n\u001b[0;32m   1228\u001b[0m \u001b[38;5;28;01massert\u001b[39;00m \u001b[38;5;28mself\u001b[39m\u001b[38;5;241m.\u001b[39mhandles \u001b[38;5;129;01mis\u001b[39;00m \u001b[38;5;129;01mnot\u001b[39;00m \u001b[38;5;28;01mNone\u001b[39;00m\n\u001b[0;32m   1229\u001b[0m f \u001b[38;5;241m=\u001b[39m \u001b[38;5;28mself\u001b[39m\u001b[38;5;241m.\u001b[39mhandles\u001b[38;5;241m.\u001b[39mhandle\n",
      "File \u001b[1;32m~\\coding\\api_projects\\.venv\\lib\\site-packages\\pandas\\io\\common.py:786\u001b[0m, in \u001b[0;36mget_handle\u001b[1;34m(path_or_buf, mode, encoding, compression, memory_map, is_text, errors, storage_options)\u001b[0m\n\u001b[0;32m    781\u001b[0m \u001b[38;5;28;01melif\u001b[39;00m \u001b[38;5;28misinstance\u001b[39m(handle, \u001b[38;5;28mstr\u001b[39m):\n\u001b[0;32m    782\u001b[0m     \u001b[38;5;66;03m# Check whether the filename is to be opened in binary mode.\u001b[39;00m\n\u001b[0;32m    783\u001b[0m     \u001b[38;5;66;03m# Binary mode does not support 'encoding' and 'newline'.\u001b[39;00m\n\u001b[0;32m    784\u001b[0m     \u001b[38;5;28;01mif\u001b[39;00m ioargs\u001b[38;5;241m.\u001b[39mencoding \u001b[38;5;129;01mand\u001b[39;00m \u001b[38;5;124m\"\u001b[39m\u001b[38;5;124mb\u001b[39m\u001b[38;5;124m\"\u001b[39m \u001b[38;5;129;01mnot\u001b[39;00m \u001b[38;5;129;01min\u001b[39;00m ioargs\u001b[38;5;241m.\u001b[39mmode:\n\u001b[0;32m    785\u001b[0m         \u001b[38;5;66;03m# Encoding\u001b[39;00m\n\u001b[1;32m--> 786\u001b[0m         handle \u001b[38;5;241m=\u001b[39m \u001b[38;5;28;43mopen\u001b[39;49m\u001b[43m(\u001b[49m\n\u001b[0;32m    787\u001b[0m \u001b[43m            \u001b[49m\u001b[43mhandle\u001b[49m\u001b[43m,\u001b[49m\n\u001b[0;32m    788\u001b[0m \u001b[43m            \u001b[49m\u001b[43mioargs\u001b[49m\u001b[38;5;241;43m.\u001b[39;49m\u001b[43mmode\u001b[49m\u001b[43m,\u001b[49m\n\u001b[0;32m    789\u001b[0m \u001b[43m            \u001b[49m\u001b[43mencoding\u001b[49m\u001b[38;5;241;43m=\u001b[39;49m\u001b[43mioargs\u001b[49m\u001b[38;5;241;43m.\u001b[39;49m\u001b[43mencoding\u001b[49m\u001b[43m,\u001b[49m\n\u001b[0;32m    790\u001b[0m \u001b[43m            \u001b[49m\u001b[43merrors\u001b[49m\u001b[38;5;241;43m=\u001b[39;49m\u001b[43merrors\u001b[49m\u001b[43m,\u001b[49m\n\u001b[0;32m    791\u001b[0m \u001b[43m            \u001b[49m\u001b[43mnewline\u001b[49m\u001b[38;5;241;43m=\u001b[39;49m\u001b[38;5;124;43m\"\u001b[39;49m\u001b[38;5;124;43m\"\u001b[39;49m\u001b[43m,\u001b[49m\n\u001b[0;32m    792\u001b[0m \u001b[43m        \u001b[49m\u001b[43m)\u001b[49m\n\u001b[0;32m    793\u001b[0m     \u001b[38;5;28;01melse\u001b[39;00m:\n\u001b[0;32m    794\u001b[0m         \u001b[38;5;66;03m# Binary mode\u001b[39;00m\n\u001b[0;32m    795\u001b[0m         handle \u001b[38;5;241m=\u001b[39m \u001b[38;5;28mopen\u001b[39m(handle, ioargs\u001b[38;5;241m.\u001b[39mmode)\n",
      "\u001b[1;31mFileNotFoundError\u001b[0m: [Errno 2] No such file or directory: 'C:\\\\Users\\\\rober\\\\coding\\\\api_projects\\\\30Days\\\\Day 18\\\\Notebooks\\\\data\\\\products.csv'"
     ]
    }
   ],
   "source": [
    "products_df = pd.read_csv(product_output)\n",
    "products_df.head()"
   ]
  },
  {
   "cell_type": "code",
   "execution_count": null,
   "id": "3acd22ab",
   "metadata": {},
   "outputs": [],
   "source": [
    "final_df = pd.concat([products_df, df_sub])\n",
    "final_df.to_csv(product_output, index=False)"
   ]
  },
  {
   "cell_type": "code",
   "execution_count": null,
   "id": "1c6a0f75",
   "metadata": {},
   "outputs": [],
   "source": [
    "df_sub"
   ]
  },
  {
   "cell_type": "code",
   "execution_count": null,
   "id": "67cb1e00",
   "metadata": {},
   "outputs": [],
   "source": []
  }
 ],
 "metadata": {
  "kernelspec": {
   "display_name": "Python 3 (ipykernel)",
   "language": "python",
   "name": "python3"
  },
  "language_info": {
   "codemirror_mode": {
    "name": "ipython",
    "version": 3
   },
   "file_extension": ".py",
   "mimetype": "text/x-python",
   "name": "python",
   "nbconvert_exporter": "python",
   "pygments_lexer": "ipython3",
   "version": "3.10.1"
  }
 },
 "nbformat": 4,
 "nbformat_minor": 5
}
