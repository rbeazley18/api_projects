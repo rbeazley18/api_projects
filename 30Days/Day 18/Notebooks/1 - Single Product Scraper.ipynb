{
 "cells": [
  {
   "cell_type": "code",
   "execution_count": 3,
   "id": "7cc14b0a",
   "metadata": {},
   "outputs": [],
   "source": [
    "import requests\n",
    "from requests_html import HTML\n",
    "from selenium import webdriver\n",
    "from selenium.webdriver.chrome.service import Service\n",
    "from webdriver_manager.chrome import ChromeDriverManager\n",
    "from selenium.webdriver.common.by import By\n",
    "from selenium.webdriver.chrome.options import Options"
   ]
  },
  {
   "cell_type": "code",
   "execution_count": 4,
   "id": "90b6e101",
   "metadata": {},
   "outputs": [
    {
     "name": "stdout",
     "output_type": "stream",
     "text": [
      "\n"
     ]
    }
   ],
   "source": [
    "# options = Options()\n",
    "# options.add_argument('--headless')\n",
    "# driver = webdriver.Chrome(options=options)\n",
    "\n",
    "\n",
    "# driver = webdriver.Chrome('C:/chromedriver/chromedriver.exe')\n",
    "\n",
    "# driver = webdriver.Chrome('C:\\chromedriver\\chromedriver.exe', options=options)\n",
    "\n",
    "options = Options()\n",
    "options.add_argument('--headless')\n",
    "driver = webdriver.Chrome(service=Service(ChromeDriverManager().install()), options=options)"
   ]
  },
  {
   "cell_type": "code",
   "execution_count": 15,
   "id": "8ddf5aa3",
   "metadata": {},
   "outputs": [],
   "source": [
    "# url = 'https://www.amazon.com/Costa-Del-Mar-6S9013-Sunglasses/dp/B08W8P7DNC/ref=sr_1_5?keywords=costa%2Bspearo%2Bxl&qid=1658269149&sprefix=costa%2Bspearo%2B%2Caps%2C176&sr=8-5&th=1'\n",
    "url ='https://www.amazon.com/Costa-Del-Mar-6s9013-Sunglasses/dp/B08WBNRMZ6'\n",
    "\n",
    "title_lookup = '#productTitle'\n",
    "price_lookup = '.a-offscreen'"
   ]
  },
  {
   "cell_type": "code",
   "execution_count": 16,
   "id": "8969afdb",
   "metadata": {},
   "outputs": [],
   "source": [
    "# requests not working\n",
    "# r = requests.get(url)\n",
    "# html_str = r.text"
   ]
  },
  {
   "cell_type": "code",
   "execution_count": 17,
   "id": "05562cd7",
   "metadata": {},
   "outputs": [],
   "source": [
    "# print(html_str)\n",
    "driver.get(url)\n",
    "body_el = driver.find_element(By.CSS_SELECTOR, \"body\")\n",
    "html_str = body_el.get_attribute('innerHTML')\n",
    "\n",
    "# price_el = driver.find_element(By.CSS_SELECTOR, \"span.apexPriceToPay\")\n",
    "# price_str = price_el.get_attribute('innerHTML')\n",
    "# print(html_str)"
   ]
  },
  {
   "cell_type": "code",
   "execution_count": 18,
   "id": "e763695c",
   "metadata": {},
   "outputs": [],
   "source": [
    "html_obj = HTML(html=html_str)\n",
    "# price_obj = HTML(html=price_str) #testing diff method"
   ]
  },
  {
   "cell_type": "code",
   "execution_count": 21,
   "id": "2864e2a9",
   "metadata": {},
   "outputs": [],
   "source": [
    "product_title = html_obj.find(title_lookup, first=True).text"
   ]
  },
  {
   "cell_type": "code",
   "execution_count": 22,
   "id": "252ea9ad",
   "metadata": {},
   "outputs": [],
   "source": [
    "product_price = html_obj.find(price_lookup, first=True).text"
   ]
  },
  {
   "cell_type": "code",
   "execution_count": 23,
   "id": "dd6163bb",
   "metadata": {},
   "outputs": [
    {
     "name": "stdout",
     "output_type": "stream",
     "text": [
      "Costa Del Mar Men's Spearo XL Square Sunglasses $277.00\n"
     ]
    }
   ],
   "source": [
    "print(product_title, product_price)"
   ]
  },
  {
   "cell_type": "code",
   "execution_count": null,
   "id": "9bc3e2f8",
   "metadata": {},
   "outputs": [],
   "source": []
  }
 ],
 "metadata": {
  "kernelspec": {
   "display_name": "Python 3 (ipykernel)",
   "language": "python",
   "name": "python3"
  },
  "language_info": {
   "codemirror_mode": {
    "name": "ipython",
    "version": 3
   },
   "file_extension": ".py",
   "mimetype": "text/x-python",
   "name": "python",
   "nbconvert_exporter": "python",
   "pygments_lexer": "ipython3",
   "version": "3.10.1"
  }
 },
 "nbformat": 4,
 "nbformat_minor": 5
}
