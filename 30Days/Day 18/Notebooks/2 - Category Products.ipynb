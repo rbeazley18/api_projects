{
 "cells": [
  {
   "cell_type": "code",
   "execution_count": 19,
   "id": "7cc14b0a",
   "metadata": {},
   "outputs": [],
   "source": [
    "import requests\n",
    "import time\n",
    "from requests_html import HTML\n",
    "from selenium import webdriver\n",
    "from selenium.webdriver.chrome.service import Service\n",
    "from webdriver_manager.chrome import ChromeDriverManager\n",
    "from selenium.webdriver.common.by import By\n",
    "from selenium.webdriver.chrome.options import Options"
   ]
  },
  {
   "cell_type": "code",
   "execution_count": 4,
   "id": "90b6e101",
   "metadata": {},
   "outputs": [
    {
     "name": "stdout",
     "output_type": "stream",
     "text": [
      "\n"
     ]
    }
   ],
   "source": [
    "options = Options()\n",
    "options.add_argument('--headless')\n",
    "driver = webdriver.Chrome(service=Service(ChromeDriverManager().install()), options=options)"
   ]
  },
  {
   "cell_type": "code",
   "execution_count": 5,
   "id": "0c610fd6",
   "metadata": {},
   "outputs": [],
   "source": [
    "categories = ['https://www.amazon.com/Best-Sellers-Appliances/zgbs/appliances/ref=zg_bs_nav_0',\n",
    "              'https://www.amazon.com/Best-Sellers-Electronics/zgbs/electronics/ref=zg_bs_nav_0',\n",
    "              'https://www.amazon.com/best-sellers-books-Amazon/zgbs/books/ref=zg_bs_nav_0'\n",
    "             ]\n"
   ]
  },
  {
   "cell_type": "code",
   "execution_count": 7,
   "id": "c60dfccf",
   "metadata": {},
   "outputs": [],
   "source": [
    "first_url = categories[0]"
   ]
  },
  {
   "cell_type": "code",
   "execution_count": 8,
   "id": "7b167a55",
   "metadata": {},
   "outputs": [],
   "source": [
    "driver.get(first_url)"
   ]
  },
  {
   "cell_type": "code",
   "execution_count": 9,
   "id": "2d250f71",
   "metadata": {},
   "outputs": [],
   "source": [
    "body_el = driver.find_element(By.CSS_SELECTOR, \"body\")\n",
    "html_str = body_el.get_attribute('innerHTML')"
   ]
  },
  {
   "cell_type": "code",
   "execution_count": 10,
   "id": "7a27bf54",
   "metadata": {},
   "outputs": [],
   "source": [
    "html_obj = HTML(html=html_str)"
   ]
  },
  {
   "cell_type": "code",
   "execution_count": 14,
   "id": "89538e2e",
   "metadata": {},
   "outputs": [],
   "source": [
    "new_links = [x for x in html_obj.links if x.startswith('/')]\n",
    "new_links = [x for x in new_links if 'product-reviews/' not in x]"
   ]
  },
  {
   "cell_type": "code",
   "execution_count": 15,
   "id": "81a8f04b",
   "metadata": {},
   "outputs": [],
   "source": [
    "page_links = [f'https://www.amazon.com{x}' for x in new_links]"
   ]
  },
  {
   "cell_type": "code",
   "execution_count": 27,
   "id": "cb138613",
   "metadata": {},
   "outputs": [
    {
     "data": {
      "text/plain": [
       "['https://www.amazon.com/health-personal-care-nutrition-fitness/b/?ie=UTF8&node=3760901&ref_=nav_cs_hpc',\n",
       " 'https://www.amazon.com/gp/help/customer/display.html?nodeId=468520&ref_=footer_shiprates',\n",
       " 'https://www.amazon.com/FRIGIDAIRE-EFIC189-Silver-Compact-Silver-Packaging/dp/B075QP7SCP/ref=zg_bs_appliances_8/134-1652743-5659837?pd_rd_i=B075QP7SCP&psc=1',\n",
       " 'https://www.amazon.com/gp/kindle/ku/ku_central?ref_=nav_AccountFlyout_ku',\n",
       " 'https://www.amazon.com/product-reviews/B0B49ZSDFP/ref=zg_bs_appliances_cr_14/134-1652743-5659837?pd_rd_i=B0B49ZSDFP',\n",
       " 'https://www.amazon.com/product-reviews/B0B6HW9JJ2/ref=zg_bs_appliances_cr_9/134-1652743-5659837?pd_rd_i=B0B6HW9JJ2',\n",
       " 'https://www.amazon.com/business?ref_=footer_retail_b2b',\n",
       " 'https://www.amazon.com/gp/most-wished-for/appliances/ref=zg_bs_tab_t_mw',\n",
       " 'https://www.amazon.com/Proctor-Silex-Adjustable-Temperature-34106/dp/B086BYH8LJ/ref=zg_bs_appliances_26/134-1652743-5659837?pd_rd_i=B09T6KM6RC&psc=1',\n",
       " 'https://www.amazon.com/gp/help/customer/accessibility',\n",
       " 'https://www.amazon.com/gp/seller-account/mm-summary-page.html?ld=AZFooterSelfPublish&topic=200260520&ref_=footer_publishing',\n",
       " 'https://www.amazon.com/product-reviews/B09T6KM6RC/ref=zg_bs_appliances_cr_26/134-1652743-5659837?pd_rd_i=B09T6KM6RC',\n",
       " 'https://www.amazon.com/GE-Countertop-Connectivity-Essentials-Stainless/dp/B09SBT74HX/ref=zg_bs_appliances_15/134-1652743-5659837?pd_rd_i=B09SM3R3GL&psc=1',\n",
       " 'https://www.amazon.com/customer-preferences/edit?ie=UTF8&preferencesReturnUrl=%2FBest-Sellers-Appliances%2Fzgbs%2Fappliances%2Fref%3Dzg_bs_nav_0&ref_=topnav_lang',\n",
       " 'https://www.amazon.com/Essential-Values-Machine-Cleaner-Matic/dp/B07QVMXTDL/ref=zg_bs_appliances_6/134-1652743-5659837?pd_rd_i=B09MW79GWY&psc=1',\n",
       " 'https://www.amazon.com/Beauty-Makeup-Skin-Hair-Products/b/?ie=UTF8&node=3760911&ref_=nav_cs_beauty',\n",
       " 'https://www.amazon.com/music/unlimited?ref_=nav_cs_music',\n",
       " 'https://www.amazon.com/product-reviews/B098W5ND23/ref=zg_bs_appliances_cr_20/134-1652743-5659837?pd_rd_i=B098W5ND23',\n",
       " 'https://www.amazon.com/Wizisa-Countertop-Portable-Self-Cleaning-Bullet-Shaped/dp/B0922V1DMT/ref=zg_bs_appliances_19/134-1652743-5659837?pd_rd_i=B0922V1DMT&psc=1',\n",
       " 'https://www.amazon.com/gp/browse.html?node=10232440011&ref_=footer_reload_us',\n",
       " 'https://www.amazon.com/appliances/b/?ie=UTF8&node=2619525011&ref_=topnav_storetab_la',\n",
       " 'https://www.amazon.com/Broan-412402-Capable-Non-Ducted-Under-Cabinet/dp/B000R9E4VK/ref=zg_bs_appliances_9/134-1652743-5659837?pd_rd_i=B0B6HW9JJ2&psc=1',\n",
       " 'https://www.amazon.com/product-reviews/B0B1J1QL81/ref=zg_bs_appliances_cr_28/134-1652743-5659837?pd_rd_i=B0B1J1QL81',\n",
       " 'https://www.amazon.com/product-reviews/B0B3MY3BC6/ref=zg_bs_appliances_cr_22/134-1652743-5659837?pd_rd_i=B0B3MY3BC6',\n",
       " 'https://www.amazon.com/Machine-Countertop-Self-Cleaning-Function-Portable/dp/B08TM3TRGL/ref=zg_bs_appliances_10/134-1652743-5659837?pd_rd_i=B09ZDXYH3Z&psc=1',\n",
       " 'https://www.amazon.com/Best-Sellers-Appliances-Range-Hoods/zgbs/appliances/3741441/ref=zg_bs_nav_appliances_1',\n",
       " 'https://www.amazon.com/interestbasedads/ref=footer_iba',\n",
       " 'https://www.amazon.com/Machine-Countertop-Electric-Compact-Potable/dp/B09DYFVR2M/ref=zg_bs_appliances_5/134-1652743-5659837?pd_rd_i=B09KL1GPY7&psc=1',\n",
       " 'https://www.amazon.com/Best-Sellers-Appliances/zgbs/appliances/ref=zg_bs_pg_1?_encoding=UTF8&pg=1',\n",
       " 'https://www.amazon.com/VIVOHOME-Electric-Portable-Countertop-Automatic/dp/B07T1XPVX3/ref=zg_bs_appliances_23/134-1652743-5659837?pd_rd_i=B0875XTG1S&psc=1',\n",
       " 'https://www.amazon.com/amazon-fashion/b/?ie=UTF8&node=7141123011&ref_=nav_cs_fashion',\n",
       " 'https://www.amazon.com/product-reviews/B0B1GV77CN/ref=zg_bs_appliances_cr_16/134-1652743-5659837?pd_rd_i=B0B1GV77CN',\n",
       " 'https://www.amazon.com/Smart-Home/b/?ie=UTF8&node=6563140011&ref_=nav_cs_smart_home',\n",
       " 'https://www.amazon.com/Countertop-Portable-Self-Cleaning-Function-Perfect/dp/B09MJWFL31/ref=zg_bs_appliances_25/134-1652743-5659837?pd_rd_i=B09MJWFL31&psc=1',\n",
       " 'https://www.amazon.com/Handmade/b/?ie=UTF8&node=11260432011&ref_=nav_cs_handmade',\n",
       " 'https://www.amazon.com/Electactic-Countertop-Efficient-Self-Cleaning-26-6Lbs/dp/B09WHV458W/ref=zg_bs_appliances_7/134-1652743-5659837?pd_rd_i=B0B4RWT42C&psc=1',\n",
       " 'https://www.amazon.com/services?ref_=footer_services',\n",
       " 'https://www.amazon.com/gp/help/customer/display.html?nodeId=508088&ref_=footer_cou',\n",
       " 'https://www.amazon.com/gp/help/customer/display.html?nodeId=468496&ref_=footer_privacy',\n",
       " 'https://www.amazon.com/gp/browse.html?node=12653393011&ref_=footer_usrenew',\n",
       " 'https://www.amazon.com/product-reviews/B09SM3R3GL/ref=zg_bs_appliances_cr_15/134-1652743-5659837?pd_rd_i=B09SM3R3GL',\n",
       " 'https://www.amazon.com/b/?ie=UTF8&node=2645393011&ref_=sv_la_2',\n",
       " 'https://www.amazon.com/gift-cards/b/?ie=UTF8&node=2238192011&ref_=nav_cs_gc',\n",
       " 'https://www.amazon.com/Fresheracc-Refrigerator-Adjustable-Toddlers-Children/dp/B08BLDNKXZ/ref=zg_bs_appliances_30/134-1652743-5659837?pd_rd_i=B08BLDZYZK&psc=1',\n",
       " 'https://www.amazon.com/dp/B07984JN3L?plattr=ACOMFO&ie=UTF-8',\n",
       " 'https://www.amazon.com/Best-Sellers-Appliances-Home-Appliance-Warranties/zgbs/appliances/2242350011/ref=zg_bs_nav_appliances_1',\n",
       " 'https://www.amazon.com/product-reviews/B0B1QP5T48/ref=zg_bs_appliances_cr_29/134-1652743-5659837?pd_rd_i=B0B1QP5T48',\n",
       " 'https://www.amazon.com/registries?ref_=nav_ListFlyout_find',\n",
       " 'https://www.amazon.com/Best-Sellers-Appliances-Cooktops/zgbs/appliances/3741261/ref=zg_bs_nav_appliances_1',\n",
       " 'https://www.amazon.com/Best-Sellers-Appliances-Dishwashers/zgbs/appliances/3741271/ref=zg_bs_nav_appliances_1',\n",
       " 'https://www.amazon.com/gp/bestsellers/?ref_=nav_cs_bestsellers',\n",
       " 'https://www.amazon.com/product-reviews/B09RWFZTWW/ref=zg_bs_appliances_cr_12/134-1652743-5659837?pd_rd_i=B09RWFZTWW',\n",
       " 'https://www.amazon.com/Premium-Clear-Ball-Maker-Mold/dp/B08PFHQPG9/ref=zg_bs_appliances_18/134-1652743-5659837?pd_rd_i=B09YDDRZ9M&psc=1',\n",
       " 'https://www.amazon.com/Silonn-Countertop-Self-Cleaning-Compact-SLIM02/dp/B09N8T9F8J/ref=zg_bs_appliances_22/134-1652743-5659837?pd_rd_i=B0B3MY3BC6&psc=1',\n",
       " 'https://www.amazon.com/AGLUCKY-Countertop-Protable-Machine-Self-Cleaning/dp/B09V4VFJFG/ref=zg_bs_appliances_16/134-1652743-5659837?pd_rd_i=B0B1GV77CN&psc=1',\n",
       " 'https://www.amazon.com/iss/credit/rewardscardmember?plattr=CBFOOT&ref_=footer_cbcc',\n",
       " 'https://www.amazon.com/product-reviews/B0875XTG1S/ref=zg_bs_appliances_cr_23/134-1652743-5659837?pd_rd_i=B0875XTG1S',\n",
       " 'https://www.amazon.com/product-reviews/B09QRZMDHC/ref=zg_bs_appliances_cr_11/134-1652743-5659837?pd_rd_i=B09QRZMDHC',\n",
       " 'https://www.amazon.com/gp/history?ref_=nav_AccountFlyout_browsinghistory',\n",
       " 'https://www.amazon.com/gp/browse.html?node=3561432011&ref_=footer_ccmp',\n",
       " 'https://www.amazon.com/Best-Sellers-Appliances-Ranges/zgbs/appliances/3741411/ref=zg_bs_nav_appliances_1',\n",
       " 'https://www.amazon.com/toys/b/?ie=UTF8&node=165793011&ref_=nav_cs_toys',\n",
       " 'https://www.amazon.com/Silonn-Countertop-Portable-Self-cleaning-Bullet-shaped/dp/B08ZYJ8CRX/ref=zg_bs_appliances_1/134-1652743-5659837?pd_rd_i=B09BW71ZHK&psc=1',\n",
       " 'https://www.amazon.com/alm/storefront?almBrandId=QW1hem9uIEZyZXNo&ref_=footer_aff_fresh',\n",
       " 'https://www.amazon.com/gp/browse.html?node=14498690011&ref_=amzn_nav_ftr_swa',\n",
       " 'https://www.amazon.com/books-used-books-textbooks/b/?ie=UTF8&node=283155&ref_=nav_cs_books',\n",
       " 'https://www.amazon.com/Tools-and-Home-Improvement/b/?ie=UTF8&node=228013&ref_=nav_cs_hi',\n",
       " 'https://www.amazon.com/gp/browse.html?node=16115931011&ref_=nav_cs_registry',\n",
       " 'https://www.amazon.com/home-garden-kitchen-furniture-bedding/b/?ie=UTF8&node=1055398&ref_=nav_cs_home',\n",
       " 'https://www.amazon.com/Best-Sellers-Appliances-Washers-Dryers/zgbs/appliances/2383576011/ref=zg_bs_nav_appliances_1',\n",
       " 'https://www.amazon.com/gp/prime?ref_=footer_prime',\n",
       " 'https://www.amazon.com/gp/css/order-history?ref_=nav_AccountFlyout_orders',\n",
       " 'https://www.amazon.com/customer-preferences/edit?ie=UTF8&preferencesReturnUrl=%2FBest-Sellers-Appliances%2Fzgbs%2Fappliances%2Fref%3Dzg_bs_nav_0&ref_=footer_lang',\n",
       " 'https://www.amazon.com/Frigidaire-Countertop-Maker-Black-Stainless/dp/B07J1YVSNQ/ref=zg_bs_appliances_24/134-1652743-5659837?pd_rd_i=B09QZBY2LR&psc=1',\n",
       " 'https://www.amazon.com/explore?ref_=nav_cs_amazon_explore',\n",
       " 'https://www.amazon.com/Best-Sellers-Appliances-Refrigerators/zgbs/appliances/3741361/ref=zg_bs_nav_appliances_1',\n",
       " 'https://www.amazon.com/gp/browse.html?node=388305011&ref_=footer_tfx',\n",
       " 'https://www.amazon.com/hz/mycd/myx?pageType=content&ref_=nav_AccountFlyout_myk',\n",
       " 'https://www.amazon.com/ref=nav_logo',\n",
       " 'https://www.amazon.com/gp/browse.html?node=10158976011&ref_=footer_wrhsdls',\n",
       " 'https://www.amazon.com/ZAFRO-Countertop-Machine-Portable-Compact/dp/B09CPPTTYQ/ref=zg_bs_appliances_29/134-1652743-5659837?pd_rd_i=B0B1QP5T48&psc=1',\n",
       " 'https://www.amazon.com/product-reviews/B0B4YS19SH/ref=zg_bs_appliances_cr_27/134-1652743-5659837?pd_rd_i=B0B4YS19SH',\n",
       " 'https://www.amazon.com/Large-Appliance-Accessories/b/?ie=UTF8&node=3741181&ref_=sv_la_6',\n",
       " 'https://www.amazon.com/?ref_=footer_logo',\n",
       " 'https://www.amazon.com/credit/storecard/member?plattr=PLCCFOOT&ref_=footer_plcc',\n",
       " 'https://www.amazon.com/gp/browse.html?node=13234696011&ref_=_gno_p_foot',\n",
       " 'https://www.amazon.com/GE-Profile-Countertop-Portable-Stainless/dp/B09JY77GCY/ref=zg_bs_appliances_2/134-1652743-5659837?pd_rd_i=B09YXFTWJS&psc=1',\n",
       " 'https://www.amazon.com/Countertop-Portable-Self-Cleaning-Function-Operation/dp/B09NLXL5DP/ref=zg_bs_appliances_14/134-1652743-5659837?pd_rd_i=B0B49ZSDFP&psc=1',\n",
       " 'https://www.amazon.com/gp/browse.html?node=11261610011&ref_=nav_AccountFlyout_b2b_reg',\n",
       " 'https://www.amazon.com/Midea-MRC04M3AWW-White-Freezer-Cubic/dp/B00MVVITWC/ref=zg_bs_appliances_27/134-1652743-5659837?pd_rd_i=B0B4YS19SH&psc=1',\n",
       " 'https://www.amazon.com/gp/help/customer/display.html?nodeId=508510&ref_=footer_gw_m_b_he',\n",
       " 'https://www.amazon.com/product-reviews/B09BW71ZHK/ref=zg_bs_appliances_cr_1/134-1652743-5659837?pd_rd_i=B09BW71ZHK',\n",
       " 'https://www.amazon.com/gp/help/customer/display.html?nodeId=508510&ref_=nav_cs_customerservice',\n",
       " 'https://www.amazon.com/gp/yourstore?ref_=nav_AccountFlyout_recs',\n",
       " 'https://www.amazon.com/b/?node=12766669011&ld=AZUSSOA-yaflyout&ref_=nav_AccountFlyout_cs_sell',\n",
       " 'https://www.amazon.com/computer-video-games-hardware-accessories/b/?ie=UTF8&node=468642&ref_=nav_cs_video_games',\n",
       " 'https://www.amazon.com/product-reviews/B09YDDRZ9M/ref=zg_bs_appliances_cr_18/134-1652743-5659837?pd_rd_i=B09YDDRZ9M',\n",
       " 'https://www.amazon.com/Best-Sellers-Appliances-Warming-Drawers/zgbs/appliances/2399955011/ref=zg_bs_nav_appliances_1',\n",
       " 'https://www.amazon.com/gp/browse.html?node=15547130011&ref_=_us_footer_drive',\n",
       " 'https://www.amazon.com/deals?ref_=nav_cs_gb',\n",
       " 'https://www.amazon.com/hz/wishlist/ls?triggerElementID=createList&ref_=nav_ListFlyout_navFlyout_createList_lv_redirect',\n",
       " 'https://www.amazon.com/Frigidaire-EFIC103AMZ-SSBLACK-SC-SELF-CLEANING-AMZ-SSBLACK-SC/dp/B0932LK6XV/ref=zg_bs_appliances_20/134-1652743-5659837?pd_rd_i=B098W5ND23&psc=1',\n",
       " 'https://www.amazon.com/Cooking-Appliances/b/?ie=UTF8&node=2645392011&ref_=sv_la_3',\n",
       " 'https://www.amazon.com/gp/css/returns/homepage.html?ref_=footer_hy_f_4',\n",
       " 'https://www.amazon.com/product-reviews/B075QP7SCP/ref=zg_bs_appliances_cr_8/134-1652743-5659837?pd_rd_i=B075QP7SCP',\n",
       " 'https://www.amazon.com/gp/browse.html?node=230659011&ref_=footer_amazonglobal',\n",
       " 'https://www.amazon.com/gp/subscribe-and-save/manager/viewsubscriptions?ref_=nav_AccountFlyout_sns',\n",
       " 'https://www.amazon.com/Best-Sellers-Appliances-Wine-Cellars/zgbs/appliances/3741521/ref=zg_bs_nav_appliances_1',\n",
       " 'https://www.amazon.com/gp/bestsellers/appliances/?ie=UTF8&ref_=sv_la_1',\n",
       " 'https://www.amazon.com/product-reviews/B09YXFTWJS/ref=zg_bs_appliances_cr_2/134-1652743-5659837?pd_rd_i=B09YXFTWJS',\n",
       " 'https://www.amazon.com/customer-preferences/country?ie=UTF8&preferencesReturnUrl=%2FBest-Sellers-Appliances%2Fzgbs%2Fappliances%2Fref%3Dzg_bs_nav_0&ref_=footer_icp_cp',\n",
       " 'https://www.amazon.com/automotive-auto-truck-replacements-parts/b/?ie=UTF8&node=15684181&ref_=nav_cs_automotive',\n",
       " 'https://www.amazon.com/product-reviews/B0922V1DMT/ref=zg_bs_appliances_cr_19/134-1652743-5659837?pd_rd_i=B0922V1DMT',\n",
       " 'https://www.amazon.com/Gevi-Insulation-Portable-Cleaning-Stainless/dp/B09LYG2S5D/ref=zg_bs_appliances_11/134-1652743-5659837?pd_rd_i=B09QRZMDHC&psc=1',\n",
       " 'https://www.amazon.com/Arctic-King-Chest-Freezer-Black/dp/B07TM5FCSD/ref=zg_bs_appliances_17/134-1652743-5659837?pd_rd_i=B07TM5FCSD&psc=1',\n",
       " 'https://www.amazon.com/pet-shops-dogs-cats-hamsters-kittens/b/?ie=UTF8&node=2619533011&ref_=nav_cs_pets',\n",
       " 'https://www.amazon.com/product-reviews/B0B4RWT42C/ref=zg_bs_appliances_cr_7/134-1652743-5659837?pd_rd_i=B0B4RWT42C',\n",
       " 'https://www.amazon.com/Broan-403001-Capable-Under-Cabinet-30-Inch/dp/B000KKMFB2/ref=zg_bs_appliances_21/134-1652743-5659837?pd_rd_i=B0B1JCXN1N&psc=1',\n",
       " 'https://www.amazon.com/Broan-422402-Capable-Under-Cabinet-24-Inch/dp/B001E6JC4Y/ref=zg_bs_appliances_28/134-1652743-5659837?pd_rd_i=B0B1J1QL81&psc=1',\n",
       " 'https://www.amazon.com/b/?node=18190131011&ld=AZUSSOA-seemore&ref_=footer_seemore',\n",
       " 'https://www.amazon.com/product-reviews/B09MW79GWY/ref=zg_bs_appliances_cr_6/134-1652743-5659837?pd_rd_i=B09MW79GWY',\n",
       " 'https://www.amazon.com/product-reviews/B09ZDXYH3Z/ref=zg_bs_appliances_cr_10/134-1652743-5659837?pd_rd_i=B09ZDXYH3Z',\n",
       " 'https://www.amazon.com/gp/browse.html?node=2102313011&ref_=footer_devices',\n",
       " 'https://www.amazon.com/Best-Sellers/zgbs/ref=zg_bs_unv_appliances_0_1',\n",
       " 'https://www.amazon.com/gp/css/order-history?ref_=nav_orders_first',\n",
       " 'https://www.amazon.com/hz5/yourmembershipsandsubscriptions?ref_=nav_AccountFlyout_digital_subscriptions',\n",
       " 'https://www.amazon.com/hz/mycd/myx?ref_=footer_myk',\n",
       " 'https://www.amazon.com/prime?ref_=nav_cs_primelink_nonmember',\n",
       " 'https://www.amazon.com/product-reviews/B071J2LSQS/ref=zg_bs_appliances_cr_4/134-1652743-5659837?pd_rd_i=B071J2LSQS',\n",
       " 'https://www.amazon.com/gp/movers-and-shakers/appliances/ref=zg_bs_tab_t_bsms',\n",
       " 'https://www.amazon.com/hOmeLabs-Portable-Maker-Machine-Countertop/dp/B071J2LSQS/ref=zg_bs_appliances_4/134-1652743-5659837?pd_rd_i=B071J2LSQS&psc=1',\n",
       " 'https://www.amazon.com/gp/cart/view.html?ref_=nav_cart',\n",
       " 'https://www.amazon.com/gp/video/watchlist?ref_=nav_AccountFlyout_ywl',\n",
       " 'https://www.amazon.com/Kindle-eBooks/b/?ie=UTF8&node=154606011&ref_=nav_cs_kindle_books',\n",
       " 'https://www.amazon.com/gp/help/customer/display.html?nodeId=GDFU3JS5AL6SYHRD&ref_=footer_covid',\n",
       " 'https://www.amazon.com/gp/browse.html?node=16218619011&ref_=footer_swp',\n",
       " 'https://www.amazon.com/gp/most-gifted/appliances/ref=zg_bs_tab_t_mg',\n",
       " 'https://www.amazon.com/gp/product/B084KP3NG6?plattr=SCFOOT&ref_=footer_ACB',\n",
       " 'https://www.amazon.com/product-reviews/B0B1JCXN1N/ref=zg_bs_appliances_cr_21/134-1652743-5659837?pd_rd_i=B0B1JCXN1N',\n",
       " 'https://www.amazon.com/Best-Sellers-Appliances-Wall-Ovens/zgbs/appliances/3741481/ref=zg_bs_nav_appliances_1',\n",
       " 'https://www.amazon.com/Best-Sellers-Appliances-Freezers/zgbs/appliances/3741331/ref=zg_bs_nav_appliances_1',\n",
       " 'https://www.amazon.com/Dishwashers/b/?ie=UTF8&node=3741271&ref_=sv_la_5',\n",
       " 'https://www.amazon.com/product-reviews/B08L97G5TF/ref=zg_bs_appliances_cr_3/134-1652743-5659837?pd_rd_i=B08L97G5TF',\n",
       " 'https://www.amazon.com/product-reviews/B07TM5FCSD/ref=zg_bs_appliances_cr_17/134-1652743-5659837?pd_rd_i=B07TM5FCSD',\n",
       " 'https://www.amazon.com/Coupons/b/?_encoding=UTF8&node=2231352011&ref_=nav_cs_coupons',\n",
       " 'https://www.amazon.com/computer-pc-hardware-accessories-add-ons/b/?ie=UTF8&node=541966&ref_=nav_cs_pc',\n",
       " 'https://www.amazon.com/gp/new-releases/?ref_=nav_cs_newreleases',\n",
       " 'https://www.amazon.com/gp/subs/primeclub/account/homepage.html?ref_=nav_AccountFlyout_prime',\n",
       " 'https://www.amazon.com/b/?node=17867753011&ref_=nav_cs_shoppertoolkit',\n",
       " 'https://www.amazon.com/washers-dryers/b/?ie=UTF8&node=2383576011&ref_=sv_la_4',\n",
       " 'https://www.amazon.com/luxurystores?ref_=nav_cs_luxury',\n",
       " 'https://www.amazon.com/gp/new-releases/appliances/ref=zg_bs_tab_t_bsnr',\n",
       " 'https://www.amazon.com/SPACEKEEPER-Furniture-Extendable-Refrigerators-Dishwashers/dp/B09JFLQT9C/ref=zg_bs_appliances_13/134-1652743-5659837?pd_rd_i=B09JFJRN42&psc=1',\n",
       " 'https://www.amazon.com/product-reviews/B09KL1GPY7/ref=zg_bs_appliances_cr_5/134-1652743-5659837?pd_rd_i=B09KL1GPY7',\n",
       " 'https://www.amazon.com/gp/history',\n",
       " 'https://www.amazon.com/gp/css/homepage.html?ref_=nav_AccountFlyout_ya',\n",
       " 'https://www.amazon.com/AGLUCKY-Machine-Countertop-Portable-Makers/dp/B08FZYMWJT/ref=zg_bs_appliances_3/134-1652743-5659837?pd_rd_i=B08L97G5TF&psc=1',\n",
       " 'https://www.amazon.com/product-reviews/B09MJWFL31/ref=zg_bs_appliances_cr_25/134-1652743-5659837?pd_rd_i=B09MJWFL31',\n",
       " 'https://www.amazon.com/gp/video/library?ref_=nav_AccountFlyout_yvl',\n",
       " 'https://www.amazon.com/Best-Sellers-Appliances/zgbs/appliances/ref=zg_bs_pg_2?_encoding=UTF8&pg=2',\n",
       " 'https://www.amazon.com/Best-Sellers-Appliances-Ice-Makers/zgbs/appliances/2399939011/ref=zg_bs_nav_appliances_1',\n",
       " 'https://www.amazon.com/Upstreman-Adjustable-Thermostat-Refrigerator-Black-BR321/dp/B09RWFZTWW/ref=zg_bs_appliances_12/134-1652743-5659837?pd_rd_i=B09RWFZTWW&psc=1',\n",
       " 'https://www.amazon.com/product-reviews/B08BLDZYZK/ref=zg_bs_appliances_cr_30/134-1652743-5659837?pd_rd_i=B08BLDZYZK',\n",
       " 'https://www.amazon.com/hz/charitylist/homepage?ref_=nav_ListFlyout_smi_se_ya_lll_ll',\n",
       " 'https://www.amazon.com/product-reviews/B09QZBY2LR/ref=zg_bs_appliances_cr_24/134-1652743-5659837?pd_rd_i=B09QZBY2LR',\n",
       " 'https://www.amazon.com/b/?_encoding=UTF8&ld=AZUSSOA-sell&node=12766669011&ref_=nav_cs_sell',\n",
       " 'https://www.amazon.com/gp/BIT/ref=footer_bit_v2_us_A0029?bitCampaignCode=A0029',\n",
       " 'https://www.amazon.com/stores/node/20648519011?channel=discovbar?field-lbr_brands_browse-bin=AmazonBasics&ref_=nav_cs_amazonbasics',\n",
       " 'https://www.amazon.com/product-reviews/B09JFJRN42/ref=zg_bs_appliances_cr_13/134-1652743-5659837?pd_rd_i=B09JFJRN42']"
      ]
     },
     "execution_count": 27,
     "metadata": {},
     "output_type": "execute_result"
    }
   ],
   "source": [
    "page_links"
   ]
  },
  {
   "cell_type": "code",
   "execution_count": 23,
   "id": "f166e399",
   "metadata": {},
   "outputs": [],
   "source": [
    "def scrape_product_page(url, title_lookup = '#productTitle', price_lookup = '.a-offscreen'):\n",
    "    driver.get(url)\n",
    "    time.sleep(1.2)\n",
    "    body_el = driver.find_element(By.CSS_SELECTOR, \"body\")\n",
    "    html_str = body_el.get_attribute('innerHTML')\n",
    "    html_obj = HTML(html=html_str)\n",
    "    product_title = html_obj.find(title_lookup, first=True).text\n",
    "    product_price = html_obj.find(price_lookup, first=True).text\n",
    "    return product_title, product_price"
   ]
  },
  {
   "cell_type": "code",
   "execution_count": 24,
   "id": "c7622121",
   "metadata": {},
   "outputs": [
    {
     "data": {
      "text/plain": [
       "'https://www.amazon.com/health-personal-care-nutrition-fitness/b/?ie=UTF8&node=3760901&ref_=nav_cs_hpc'"
      ]
     },
     "execution_count": 24,
     "metadata": {},
     "output_type": "execute_result"
    }
   ],
   "source": [
    "first_product_link = page_links[0]\n",
    "first_product_link"
   ]
  },
  {
   "cell_type": "code",
   "execution_count": 26,
   "id": "947c9fb9",
   "metadata": {},
   "outputs": [
    {
     "name": "stdout",
     "output_type": "stream",
     "text": [
      "https://www.amazon.com/FRIGIDAIRE-EFIC189-Silver-Compact-Silver-Packaging/dp/B075QP7SCP/ref=zg_bs_appliances_8/134-1652743-5659837?pd_rd_i=B075QP7SCP&psc=1 FRIGIDAIRE EFIC189-Silver Compact Ice Maker, 26 lb per Day, Silver (Packaging May Vary) $125.00\n",
      "https://www.amazon.com/Proctor-Silex-Adjustable-Temperature-34106/dp/B086BYH8LJ/ref=zg_bs_appliances_26/134-1652743-5659837?pd_rd_i=B09T6KM6RC&psc=1 Proctor Silex Electric Single Burner Cooktop, Compact and Portable, Adjustable Temperature Hot Plate, 1200 Watts, White & Stainless (34106) $24.99\n",
      "https://www.amazon.com/GE-Countertop-Connectivity-Essentials-Stainless/dp/B09SBT74HX/ref=zg_bs_appliances_15/134-1652743-5659837?pd_rd_i=B09SM3R3GL&psc=1 GE Profile Opal 2.0 | Countertop Nugget Ice Maker | Ice Machine with WiFi Connectivity | Smart Home Kitchen Essentials | Black Stainless $599.00\n",
      "https://www.amazon.com/Essential-Values-Machine-Cleaner-Matic/dp/B07QVMXTDL/ref=zg_bs_appliances_6/134-1652743-5659837?pd_rd_i=B09MW79GWY&psc=1 2-Pack Ice Machine Cleaner and Descaler 16 fl oz, Nickel Safe Descaler | Ice Maker Cleaner Compatible with All Major Brands (Scotsman, KitchenAid, Affresh) - Made in USA by Essential Values $20.99\n",
      "https://www.amazon.com/Wizisa-Countertop-Portable-Self-Cleaning-Bullet-Shaped/dp/B0922V1DMT/ref=zg_bs_appliances_19/134-1652743-5659837?pd_rd_i=B0922V1DMT&psc=1 Wizisa Ice Maker Machine for Countertop, 9 Bullet Ice Cubes Ready in 6 Minutes, 26lbs in 24Hrs Portable Ice Maker Machine Self-Cleaning, 2 Sizes of Bullet-Shaped Ice for Home Kitchen Office Bar Party $109.99\n",
      "https://www.amazon.com/Broan-412402-Capable-Non-Ducted-Under-Cabinet/dp/B000R9E4VK/ref=zg_bs_appliances_9/134-1652743-5659837?pd_rd_i=B0B6HW9JJ2&psc=1 Broan-NuTone 412402 Non-Ducted Under-Cabinet Ductless Range Hood Insert, 24-Inch, Bisque Broan-NuTone 412401 Non-Ducted Under-Cabinet Ductless Range Hood Insert, 24-Inch, White\n",
      "https://www.amazon.com/Machine-Countertop-Self-Cleaning-Function-Portable/dp/B08TM3TRGL/ref=zg_bs_appliances_10/134-1652743-5659837?pd_rd_i=B09ZDXYH3Z&psc=1 Ice Maker Machine for Countertop, Self-Cleaning Function, 26Lbs/24H Portable Ice Maker, 9 Ice Ready in 6 Mins, Compact Ice Maker with Ice Scoop & Basket for Home Use/Party/Camping (Black) $159.99\n",
      "https://www.amazon.com/Machine-Countertop-Electric-Compact-Potable/dp/B09DYFVR2M/ref=zg_bs_appliances_5/134-1652743-5659837?pd_rd_i=B09KL1GPY7&psc=1 Euhomy Ice Maker Machine Countertop, 26 lbs in 24 Hours, 9 Cubes Ready in 6 Mins, Self-Clean Electric Ice Maker Compact Potable Ice Maker with Ice Scoop and Basket. for Home/Kitchen/Office.(Black) $149.99\n",
      "https://www.amazon.com/VIVOHOME-Electric-Portable-Countertop-Automatic/dp/B07T1XPVX3/ref=zg_bs_appliances_23/134-1652743-5659837?pd_rd_i=B0875XTG1S&psc=1 VIVOHOME Electric Portable Compact Countertop Automatic Ice Cube Maker Machine with Hand Scoop and Self Cleaning Function 26lbs/Day Black $169.99\n",
      "https://www.amazon.com/Countertop-Portable-Self-Cleaning-Function-Perfect/dp/B09MJWFL31/ref=zg_bs_appliances_25/134-1652743-5659837?pd_rd_i=B09MJWFL31&psc=1 Ice Makers Countertop, Portable Ice Maker, 26lbs/24Hrs 9 Bullet Ice Cubes Ready in 7 Mins, Self-Cleaning Function, L&S Size, with Ice Scoop and Basket, Perfect for Party, Silver $89.99\n",
      "https://www.amazon.com/Electactic-Countertop-Efficient-Self-Cleaning-26-6Lbs/dp/B09WHV458W/ref=zg_bs_appliances_7/134-1652743-5659837?pd_rd_i=B0B4RWT42C&psc=1 Electactic Ice Maker Countertop, Efficient Easy Carry Ice Maker, Self-Cleaning Ice Maker with Ice Scoop & Basket, 9pcs/ 8mins 26.6Lbs Per Day for Home/Office/Kitchen, Black $89.99\n",
      "https://www.amazon.com/Fresheracc-Refrigerator-Adjustable-Toddlers-Children/dp/B08BLDNKXZ/ref=zg_bs_appliances_30/134-1652743-5659837?pd_rd_i=B08BLDZYZK&psc=1 Fresheracc Fridge Freezer Refrigerator Cabinet Lock Latch, (2 Packs) Adjustable French Door Guard for Toddlers Children Kids Special Needs, No Drill No Screw No Adhesive (2 Packs Black) $12.95\n",
      "https://www.amazon.com/Premium-Clear-Ball-Maker-Mold/dp/B08PFHQPG9/ref=zg_bs_appliances_18/134-1652743-5659837?pd_rd_i=B09YDDRZ9M&psc=1 Premium Clear Ice Ball Maker Mold - Whiskey Ice Ball Maker Large 2.4 Inch - Crystal Clear Ice Maker Sphere - Sphere Ice Mold Maker with Storage Bag - Clear Ice Mold for Clear Sphere Ball Ice Maker $59.95\n",
      "https://www.amazon.com/Silonn-Countertop-Self-Cleaning-Compact-SLIM02/dp/B09N8T9F8J/ref=zg_bs_appliances_22/134-1652743-5659837?pd_rd_i=B0B3MY3BC6&psc=1 Silonn Countertop Ice Cube Ice Makers, 45lbs Per Day, Auto Self-Cleaning, 24 Pcs Ice Cubes in 13 Min, 2 Ways to Add Water, Compact Ice Machine for Home Office Bar Party SLIM02 $199.99\n",
      "https://www.amazon.com/AGLUCKY-Countertop-Protable-Machine-Self-Cleaning/dp/B09V4VFJFG/ref=zg_bs_appliances_16/134-1652743-5659837?pd_rd_i=B0B1GV77CN&psc=1 AGLUCKY Ice Makers Countertop,Protable Ice Maker Machine with Handel,Self-Cleaning Ice Maker, 26Lbs/24H, 9 Ice Cubes Ready in 8 Mins, for Home/Office/Kitchen $109.99\n",
      "https://www.amazon.com/Silonn-Countertop-Portable-Self-cleaning-Bullet-shaped/dp/B08ZYJ8CRX/ref=zg_bs_appliances_1/134-1652743-5659837?pd_rd_i=B09BW71ZHK&psc=1 Silonn Ice Makers Countertop, 9 Cubes Ready in 6 Mins, 26lbs in 24Hrs, Self-Cleaning Ice Machine with Ice Scoop and Basket, 2 Sizes of Bullet Ice for Home Kitchen Office Bar Party $104.32\n",
      "https://www.amazon.com/Frigidaire-Countertop-Maker-Black-Stainless/dp/B07J1YVSNQ/ref=zg_bs_appliances_24/134-1652743-5659837?pd_rd_i=B09QZBY2LR&psc=1 Frigidaire EFIC117-SSBLACK-COM EFIC117-SSBLACK 26 Lbs Portable Compact Maker, Stainless Steel Ice Making Machine, Medium, Black Stainless $108.00\n",
      "https://www.amazon.com/ZAFRO-Countertop-Machine-Portable-Compact/dp/B09CPPTTYQ/ref=zg_bs_appliances_29/134-1652743-5659837?pd_rd_i=B0B1QP5T48&psc=1 ZAFRO Countertop Ice Maker Machine, Portable Compact Ice Cube Maker with Ice Scoop & Basket, 26Lbs/24H Ice Machine for Home/Kitchen/Office/Bar, Black $109.99\n",
      "https://www.amazon.com/GE-Profile-Countertop-Portable-Stainless/dp/B09JY77GCY/ref=zg_bs_appliances_2/134-1652743-5659837?pd_rd_i=B09YXFTWJS&psc=1 GE Profile Opal | Countertop Nugget Ice Maker with Side Tank | Portable Ice Machine Makes up to 24 lbs. of Ice Per Day | Stainless Steel Finish $567.40\n",
      "https://www.amazon.com/Countertop-Portable-Self-Cleaning-Function-Operation/dp/B09NLXL5DP/ref=zg_bs_appliances_14/134-1652743-5659837?pd_rd_i=B0B49ZSDFP&psc=1 Ice Maker Countertop, Fast ice Making in 6 Mins, 26.5lbs/24Hrs 9 Bullet Ice, Portable Ice Maker Machine with Self-Cleaning, Ice Scoop and Basket, Bullet-Shaped Ice Maker for Home/Kitchen/Office/Party $149.99\n",
      "https://www.amazon.com/Midea-MRC04M3AWW-White-Freezer-Cubic/dp/B00MVVITWC/ref=zg_bs_appliances_27/134-1652743-5659837?pd_rd_i=B0B4YS19SH&psc=1 Midea MRC04M3AWW, White 3.5 cu. ft. Mini Freezer, Cubic Feet $276.97\n",
      "https://www.amazon.com/Frigidaire-EFIC103AMZ-SSBLACK-SC-SELF-CLEANING-AMZ-SSBLACK-SC/dp/B0932LK6XV/ref=zg_bs_appliances_20/134-1652743-5659837?pd_rd_i=B098W5ND23&psc=1 Frigidaire EFIC103AMZ-SSBLACK-SC SELF CLEANING AMZ-SSBLACK-SC EFIC103 Maker Machine Heavy Duty, 26lb Ice per Day, Stainless Steel, Black Stainless $149.48\n",
      "https://www.amazon.com/Gevi-Insulation-Portable-Cleaning-Stainless/dp/B09LYG2S5D/ref=zg_bs_appliances_11/134-1652743-5659837?pd_rd_i=B09QRZMDHC&psc=1 Gevi Household Nugget Ice Maker with Thick Insulation | Portable Self Cleaning Pellet Ice Machine | Quietly Making Max 29Lb/Day | Stainless Steel Housing | Sleek Design for Home Kitchen RV (Blue) $479.99\n",
      "https://www.amazon.com/Arctic-King-Chest-Freezer-Black/dp/B07TM5FCSD/ref=zg_bs_appliances_17/134-1652743-5659837?pd_rd_i=B07TM5FCSD&psc=1 Arctic King 7.0 cu ft Chest Freezer in Black $199.99\n",
      "https://www.amazon.com/Broan-403001-Capable-Under-Cabinet-30-Inch/dp/B000KKMFB2/ref=zg_bs_appliances_21/134-1652743-5659837?pd_rd_i=B0B1JCXN1N&psc=1 Broan-NuTone 30-inch Under-Cabinet Convertible Range Hood with 2-Speed Exhaust Fan and Light, MAX 210 CFM, White $62.00\n",
      "https://www.amazon.com/Broan-422402-Capable-Under-Cabinet-24-Inch/dp/B001E6JC4Y/ref=zg_bs_appliances_28/134-1652743-5659837?pd_rd_i=B0B1J1QL81&psc=1 Broan-NuTone 24-inch Under-Cabinet Range Hood with 2-Speed Exhaust Fan and Light, MAX 230 CFM, Bisque Broan-NuTone 36-inch Under-Cabinet Range Hood with 2-Speed Exhaust Fan and Light, MAX 230 CFM, Stainless Steel\n"
     ]
    },
    {
     "name": "stdout",
     "output_type": "stream",
     "text": [
      "https://www.amazon.com/hOmeLabs-Portable-Maker-Machine-Countertop/dp/B071J2LSQS/ref=zg_bs_appliances_4/134-1652743-5659837?pd_rd_i=B071J2LSQS&psc=1 hOmeLabs Portable Ice Maker Machine for Counter Top - Makes 26 lbs of Ice per 24 hours - Ice Cubes ready in 6 Minutes - Electric Ice Making Machine with Ice Scoop and 1.5 lb Ice Storage - Silver $74.99\n",
      "https://www.amazon.com/SPACEKEEPER-Furniture-Extendable-Refrigerators-Dishwashers/dp/B09JFLQT9C/ref=zg_bs_appliances_13/134-1652743-5659837?pd_rd_i=B09JFJRN42&psc=1 SPACEKEEPER Furniture Dolly Mobile Roller, Extendable Appliance Rollers Mobile Washing Machine Base, Fridge Stand Moving Cart for Washing Machines, Refrigerators, Dryers, Dishwashers, Black $24.99\n",
      "https://www.amazon.com/AGLUCKY-Machine-Countertop-Portable-Makers/dp/B08FZYMWJT/ref=zg_bs_appliances_3/134-1652743-5659837?pd_rd_i=B08L97G5TF&psc=1 AGLUCKY Countertop Ice Maker Machine, Portable Ice Makers Countertop, Make 26 lbs ice in 24 hrs,Ice Cube Rready in 6-8 Mins with Ice Scoop and Basket (Black) $129.99\n",
      "https://www.amazon.com/Upstreman-Adjustable-Thermostat-Refrigerator-Black-BR321/dp/B09RWFZTWW/ref=zg_bs_appliances_12/134-1652743-5659837?pd_rd_i=B09RWFZTWW&psc=1 Upstreman 3.2 Cu.Ft Mini Fridge with Freezer, Single Door Mini Fridge, Adjustable Thermostat, Mini Refrigerator for Dorm, Office, Bedroom, Black-BR321 $189.97\n"
     ]
    }
   ],
   "source": [
    "for link in page_links:\n",
    "    title, price = (None, None)\n",
    "    try:\n",
    "        title, price = scrape_product_page(link)\n",
    "    except:\n",
    "        pass\n",
    "    if title != None and price != None:\n",
    "        print(link, title, price)"
   ]
  },
  {
   "cell_type": "code",
   "execution_count": null,
   "id": "811f669b",
   "metadata": {},
   "outputs": [],
   "source": [
    "# https://www.amazon.com/FRIGIDAIRE-EFIC189-Silver-Compact-Silver-Packaging/dp/B075QP7SCP/\n",
    "# https://www.amazon.com/Silonn-Countertop-Self-Cleaning-Compact-SLIM02/dp/B09N8T9F8J/\n",
    "\n",
    "# <base-url>/<slug>/dp/<product_id>/"
   ]
  }
 ],
 "metadata": {
  "kernelspec": {
   "display_name": "Python 3 (ipykernel)",
   "language": "python",
   "name": "python3"
  },
  "language_info": {
   "codemirror_mode": {
    "name": "ipython",
    "version": 3
   },
   "file_extension": ".py",
   "mimetype": "text/x-python",
   "name": "python",
   "nbconvert_exporter": "python",
   "pygments_lexer": "ipython3",
   "version": "3.10.1"
  }
 },
 "nbformat": 4,
 "nbformat_minor": 5
}
