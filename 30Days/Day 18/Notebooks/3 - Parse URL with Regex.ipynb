{
 "cells": [
  {
   "cell_type": "code",
   "execution_count": 1,
   "id": "7cc14b0a",
   "metadata": {},
   "outputs": [],
   "source": [
    "import re\n",
    "import requests\n",
    "import time\n",
    "from requests_html import HTML\n",
    "from selenium import webdriver\n",
    "from selenium.webdriver.chrome.service import Service\n",
    "from webdriver_manager.chrome import ChromeDriverManager\n",
    "from selenium.webdriver.common.by import By\n",
    "from selenium.webdriver.chrome.options import Options"
   ]
  },
  {
   "cell_type": "code",
   "execution_count": 2,
   "id": "90b6e101",
   "metadata": {},
   "outputs": [
    {
     "name": "stdout",
     "output_type": "stream",
     "text": [
      "\n"
     ]
    }
   ],
   "source": [
    "options = Options()\n",
    "options.add_argument('--headless')\n",
    "driver = webdriver.Chrome(service=Service(ChromeDriverManager().install()), options=options)"
   ]
  },
  {
   "cell_type": "code",
   "execution_count": 3,
   "id": "0c610fd6",
   "metadata": {},
   "outputs": [],
   "source": [
    "categories = ['https://www.amazon.com/Best-Sellers-Appliances/zgbs/appliances/ref=zg_bs_nav_0',\n",
    "              'https://www.amazon.com/Best-Sellers-Electronics/zgbs/electronics/ref=zg_bs_nav_0',\n",
    "              'https://www.amazon.com/best-sellers-books-Amazon/zgbs/books/ref=zg_bs_nav_0'\n",
    "             ]\n"
   ]
  },
  {
   "cell_type": "code",
   "execution_count": 4,
   "id": "c60dfccf",
   "metadata": {},
   "outputs": [],
   "source": [
    "first_url = categories[0]"
   ]
  },
  {
   "cell_type": "code",
   "execution_count": 5,
   "id": "7b167a55",
   "metadata": {},
   "outputs": [],
   "source": [
    "driver.get(first_url)"
   ]
  },
  {
   "cell_type": "code",
   "execution_count": 6,
   "id": "2d250f71",
   "metadata": {},
   "outputs": [],
   "source": [
    "body_el = driver.find_element(By.CSS_SELECTOR, \"body\")\n",
    "html_str = body_el.get_attribute('innerHTML')"
   ]
  },
  {
   "cell_type": "code",
   "execution_count": 7,
   "id": "7a27bf54",
   "metadata": {},
   "outputs": [],
   "source": [
    "html_obj = HTML(html=html_str)"
   ]
  },
  {
   "cell_type": "code",
   "execution_count": 8,
   "id": "89538e2e",
   "metadata": {},
   "outputs": [],
   "source": [
    "page_links = [f'https://www.amazon.com{x}' for x in html_obj.links if x.startswith('/')]\n",
    "# new_links = [x for x in new_links if 'product-reviews/' not in x]"
   ]
  },
  {
   "cell_type": "code",
   "execution_count": 9,
   "id": "cb138613",
   "metadata": {},
   "outputs": [],
   "source": [
    "# page_links"
   ]
  },
  {
   "cell_type": "code",
   "execution_count": 10,
   "id": "f166e399",
   "metadata": {},
   "outputs": [],
   "source": [
    "def scrape_product_page(url, title_lookup = '#productTitle', price_lookup = '.a-offscreen'):\n",
    "    driver.get(url)\n",
    "    time.sleep(.5)\n",
    "    body_el = driver.find_element(By.CSS_SELECTOR, \"body\")\n",
    "    html_str = body_el.get_attribute('innerHTML')\n",
    "    html_obj = HTML(html=html_str)\n",
    "    product_title = html_obj.find(title_lookup, first=True).text\n",
    "    product_price = html_obj.find(price_lookup, first=True).text\n",
    "    return product_title, product_price"
   ]
  },
  {
   "cell_type": "code",
   "execution_count": 11,
   "id": "c7622121",
   "metadata": {},
   "outputs": [],
   "source": [
    "# first_product_link = page_links[0]\n",
    "# first_product_link"
   ]
  },
  {
   "cell_type": "code",
   "execution_count": null,
   "id": "947c9fb9",
   "metadata": {},
   "outputs": [],
   "source": []
  },
  {
   "cell_type": "code",
   "execution_count": 12,
   "id": "811f669b",
   "metadata": {},
   "outputs": [],
   "source": [
    "# https://www.amazon.com/FRIGIDAIRE-EFIC189-Silver-Compact-Silver-Packaging/dp/B075QP7SCP/\n",
    "# https://www.amazon.com/Silonn-Countertop-Self-Cleaning-Compact-SLIM02/dp/B09N8T9F8J/\n",
    "\n",
    "# <base-url>/<slug>/dp/<product_id>/"
   ]
  },
  {
   "cell_type": "code",
   "execution_count": 13,
   "id": "b3268593",
   "metadata": {},
   "outputs": [],
   "source": [
    "# my_regex_pattern = r'https://www.amazon.com/(?P<slug>[\\w-]+)/dp/(?P<product_id>[\\w-]+)/'\n",
    "# my_url ='https://www.amazon.com/Upstreman-Adjustable-Thermostat-Refrigerator-Black-BR321/dp/B09RWFZTWW/'"
   ]
  },
  {
   "cell_type": "code",
   "execution_count": 14,
   "id": "5ecc1d75",
   "metadata": {},
   "outputs": [],
   "source": [
    "# regex = re.compile(my_regex_pattern)"
   ]
  },
  {
   "cell_type": "code",
   "execution_count": 15,
   "id": "7f9a872a",
   "metadata": {},
   "outputs": [],
   "source": [
    "# my_match = regex.match(my_url)\n",
    "# print(my_match)\n",
    "# my_match['product_id']"
   ]
  },
  {
   "cell_type": "code",
   "execution_count": 16,
   "id": "6e3300e6",
   "metadata": {},
   "outputs": [],
   "source": [
    "# my_match['slug']"
   ]
  },
  {
   "cell_type": "code",
   "execution_count": 17,
   "id": "104adcc6",
   "metadata": {},
   "outputs": [],
   "source": [
    "regex_options = [\n",
    "    r\"https://www.amazon.com/gp/product/(?P<product_id>[\\w-]+)/\",\n",
    "    r\"https://www.amazon.com/dp/(?P<product_id>[\\w-]+)/\",\n",
    "    r\"https://www.amazon.com/(?P<slug>[\\w-]+)/dp/(?P<product_id>[\\w-]+)/\",\n",
    "]\n",
    "\n",
    "def extract_product_id_from_url(url):\n",
    "    product_id = None\n",
    "    for regex_str in regex_options:\n",
    "        regex = re.compile(regex_str)\n",
    "        match = regex.match(url)\n",
    "        if match != None:\n",
    "            try:\n",
    "                product_id = match['product_id']\n",
    "            except:\n",
    "                pass\n",
    "    return product_id"
   ]
  },
  {
   "cell_type": "code",
   "execution_count": 18,
   "id": "81a8f04b",
   "metadata": {},
   "outputs": [],
   "source": [
    "# page_links = [x for x in page_links if extract_product_id_from_url(x) != None]\n",
    "\n",
    "def clean_page_links(page_links=[]):\n",
    "    final_page_links = []\n",
    "    for url in page_links:\n",
    "        product_id = extract_product_id_from_url(url)\n",
    "        if product_id != None:\n",
    "            final_page_links.append({\"url\": url, \"product_id\": product_id})\n",
    "    return final_page_links\n",
    "\n",
    "cleaned_links = clean_page_links(page_links)"
   ]
  },
  {
   "cell_type": "code",
   "execution_count": 19,
   "id": "7415d688",
   "metadata": {},
   "outputs": [
    {
     "data": {
      "text/plain": [
       "168"
      ]
     },
     "execution_count": 19,
     "metadata": {},
     "output_type": "execute_result"
    }
   ],
   "source": [
    "len(page_links) #== len(cleaned_links)"
   ]
  },
  {
   "cell_type": "code",
   "execution_count": 20,
   "id": "f0a76786",
   "metadata": {},
   "outputs": [
    {
     "data": {
      "text/plain": [
       "29"
      ]
     },
     "execution_count": 20,
     "metadata": {},
     "output_type": "execute_result"
    }
   ],
   "source": [
    "len(cleaned_links)"
   ]
  },
  {
   "cell_type": "code",
   "execution_count": 21,
   "id": "bf31835f",
   "metadata": {},
   "outputs": [],
   "source": [
    "def perform_scrape(cleaned_items=[]):\n",
    "    data_extracted = []\n",
    "    for obj in cleaned_items:\n",
    "        link = obj['url']\n",
    "        product_id = obj['product_id']\n",
    "        title, price = (None, None)\n",
    "        try:\n",
    "            title, price = scrape_product_page(link)\n",
    "        except:\n",
    "            pass\n",
    "        if title != None and price != None:\n",
    "            print(link, title, price)\n",
    "        product_data = {'url': link, 'product_id': product_id, 'title': title, 'price': price}\n",
    "        data_extracted.append(product_data)\n",
    "    return data_extracted"
   ]
  },
  {
   "cell_type": "code",
   "execution_count": 22,
   "id": "6ba4f2b9",
   "metadata": {},
   "outputs": [
    {
     "name": "stdout",
     "output_type": "stream",
     "text": [
      "https://www.amazon.com/Broan-403001-Capable-Under-Cabinet-30-Inch/dp/B000KKMFB2/ref=zg_bs_appliances_sccl_19/140-5995169-8446846?pd_rd_i=B0B1JCXN1N&psc=1 Broan-NuTone 30-inch Under-Cabinet Convertible Range Hood with 2-Speed Exhaust Fan and Light, MAX 210 CFM, White $62.00\n",
      "https://www.amazon.com/Silonn-Countertop-Portable-Self-cleaning-Bullet-shaped/dp/B08ZYJ8CRX/ref=zg_bs_appliances_sccl_1/140-5995169-8446846?pd_rd_i=B09BW71ZHK&psc=1 Silonn Ice Makers Countertop, 9 Cubes Ready in 6 Mins, 26lbs in 24Hrs, Self-Cleaning Ice Machine with Ice Scoop and Basket, 2 Sizes of Bullet Ice for Home Kitchen Office Bar Party $105.99\n",
      "https://www.amazon.com/FRIGIDAIRE-EFIC189-Silver-Compact-Silver-Packaging/dp/B075QP7SCP/ref=zg_bs_appliances_sccl_8/140-5995169-8446846?pd_rd_i=B075QP7SCP&psc=1 FRIGIDAIRE EFIC189-Silver Compact Ice Maker, 26 lb per Day, Silver (Packaging May Vary) $124.90\n",
      "https://www.amazon.com/SPACEKEEPER-Furniture-Extendable-Refrigerators-Dishwashers/dp/B09JFLQT9C/ref=zg_bs_appliances_sccl_28/140-5995169-8446846?pd_rd_i=B09JFJRN42&psc=1 SPACEKEEPER Furniture Dolly Mobile Roller, Extendable Appliance Rollers Mobile Washing Machine Base, Fridge Stand Moving Cart for Washing Machines, Refrigerators, Dryers, Dishwashers, Black $24.99\n",
      "https://www.amazon.com/Gevi-Insulation-Portable-Cleaning-Stainless/dp/B09LYG2S5D/ref=zg_bs_appliances_sccl_23/140-5995169-8446846?pd_rd_i=B09QRZMDHC&psc=1 Gevi Household Nugget Ice Maker with Thick Insulation | Portable Self Cleaning Pellet Ice Machine | Quietly Making Max 29Lb/Day | Stainless Steel Housing | Sleek Design for Home Kitchen RV (Blue) $457.99\n",
      "https://www.amazon.com/Machine-Countertop-Self-Cleaning-Function-Portable/dp/B08TM3TRGL/ref=zg_bs_appliances_sccl_10/140-5995169-8446846?pd_rd_i=B09ZDXYH3Z&psc=1 Ice Maker Machine for Countertop, Self-Cleaning Function, 26Lbs/24H Portable Ice Maker, 9 Ice Ready in 6 Mins, Compact Ice Maker with Ice Scoop & Basket for Home Use/Party/Camping (Black) $159.99\n",
      "https://www.amazon.com/Electactic-Countertop-Efficient-Self-Cleaning-26-6Lbs/dp/B09WHV458W/ref=zg_bs_appliances_sccl_12/140-5995169-8446846?pd_rd_i=B0B4RWT42C&psc=1 Electactic Ice Maker Countertop, Efficient Easy Carry Ice Maker, Self-Cleaning Ice Maker with Ice Scoop & Basket, 9pcs/ 8mins 26.6Lbs Per Day for Home/Office/Kitchen, Black $89.99\n",
      "https://www.amazon.com/Upstreman-Adjustable-Thermostat-Refrigerator-Black-BR321/dp/B09RWFZTWW/ref=zg_bs_appliances_sccl_14/140-5995169-8446846?pd_rd_i=B09RWFZTWW&psc=1 Upstreman 3.2 Cu.Ft Mini Fridge with Freezer, Single Door Mini Fridge, Adjustable Thermostat, Mini Refrigerator for Dorm, Office, Bedroom, Black-BR321 $192.97\n",
      "https://www.amazon.com/Countertop-Portable-Self-Cleaning-Function-Operation/dp/B09NLXL5DP/ref=zg_bs_appliances_sccl_17/140-5995169-8446846?pd_rd_i=B0B49ZSDFP&psc=1 Ice Maker Countertop, Fast ice Making in 6 Mins, 26.5lbs/24Hrs 9 Bullet Ice, Portable Ice Maker Machine with Self-Cleaning, Ice Scoop and Basket, Bullet-Shaped Ice Maker for Home/Kitchen/Office/Party $103.99\n",
      "https://www.amazon.com/Midea-MRC04M3AWW-White-Freezer-Cubic/dp/B00MVVITWC/ref=zg_bs_appliances_sccl_27/140-5995169-8446846?pd_rd_i=B0B4YS19SH&psc=1 Midea MRC04M3AWW, White 3.5 cu. ft. Mini Freezer, Cubic Feet $325.85\n",
      "https://www.amazon.com/Essential-Values-Machine-Cleaner-Matic/dp/B07QVMXTDL/ref=zg_bs_appliances_sccl_7/140-5995169-8446846?pd_rd_i=B09MW79GWY&psc=1 2-Pack Ice Machine Cleaner and Descaler 16 fl oz, Nickel Safe Descaler | Ice Maker Cleaner Compatible with All Major Brands (Scotsman, KitchenAid, Affresh) - Made in USA by Essential Values $20.99\n",
      "https://www.amazon.com/COMFEE-WQP4-2601-Dishwasher-Place-Settings/dp/B092227VYL/ref=zg_bs_appliances_sccl_18/140-5995169-8446846?pd_rd_i=B0B78B1JC6&psc=1 COMFEE' Countertop Dishwasher, Portable Dishwasher with 5L Built-in Water Tank, No Hookup Needed, 6 Programs, 360° Dual Spray, 192℉ Steam& Air-Dry Function, Mini Dishwasher for Apartments& RVs, White $272.04\n",
      "https://www.amazon.com/Proctor-Silex-Adjustable-Temperature-34106/dp/B086BYH8LJ/ref=zg_bs_appliances_sccl_30/140-5995169-8446846?pd_rd_i=B09T6KM6RC&psc=1 Proctor Silex Electric Single Burner Cooktop, Compact and Portable, Adjustable Temperature Hot Plate, 1200 Watts, White & Stainless (34106) $24.49\n",
      "https://www.amazon.com/hOmeLabs-Portable-Maker-Machine-Countertop/dp/B071J2LSQS/ref=zg_bs_appliances_sccl_4/140-5995169-8446846?pd_rd_i=B071J2LSQS&psc=1 hOmeLabs Portable Ice Maker Machine for Counter Top - Makes 26 lbs of Ice per 24 hours - Ice Cubes ready in 6 Minutes - Electric Ice Making Machine with Ice Scoop and 1.5 lb Ice Storage - Silver $89.99\n",
      "https://www.amazon.com/Premium-Clear-Ball-Maker-Mold/dp/B08PFHQPG9/ref=zg_bs_appliances_sccl_25/140-5995169-8446846?pd_rd_i=B09YDDRZ9M&psc=1 Premium Clear Ice Ball Maker Mold - Whiskey Ice Ball Maker Large 2.4 Inch - Crystal Clear Ice Maker Sphere - Sphere Ice Mold Maker with Storage Bag - Clear Ice Mold for Clear Sphere Ball Ice Maker $59.95\n",
      "https://www.amazon.com/Arctic-King-Chest-Freezer-Black/dp/B0827CKHHF/ref=zg_bs_appliances_sccl_11/140-5995169-8446846?pd_rd_i=B0827CKHHF&psc=1 Arctic King Chest Freezer 5 cu ft (Black) Page 1 of 1\n",
      "https://www.amazon.com/Frigidaire-EFIC103AMZ-SSBLACK-SC-SELF-CLEANING-AMZ-SSBLACK-SC/dp/B0932LK6XV/ref=zg_bs_appliances_sccl_26/140-5995169-8446846?pd_rd_i=B098W5ND23&psc=1 Frigidaire EFIC103AMZ-SSBLACK-SC SELF CLEANING AMZ-SSBLACK-SC EFIC103 Maker Machine Heavy Duty, 26lb Ice per Day, Stainless Steel, Black Stainless $140.71\n",
      "https://www.amazon.com/Frigidaire-Countertop-Maker-Black-Stainless/dp/B07J1YVSNQ/ref=zg_bs_appliances_sccl_20/140-5995169-8446846?pd_rd_i=B09QZBY2LR&psc=1 Frigidaire EFIC117-SSBLACK-COM EFIC117-SSBLACK 26 Lbs Portable Compact Maker, Stainless Steel Ice Making Machine, Medium, Black Stainless $108.00\n",
      "https://www.amazon.com/AGLUCKY-Countertop-Protable-Machine-Self-Cleaning/dp/B09V4VFJFG/ref=zg_bs_appliances_sccl_21/140-5995169-8446846?pd_rd_i=B0B1GV77CN&psc=1 AGLUCKY Ice Makers Countertop,Protable Ice Maker Machine with Handel,Self-Cleaning Ice Maker, 26Lbs/24H, 9 Ice Cubes Ready in 8 Mins, for Home/Office/Kitchen $109.99\n",
      "https://www.amazon.com/GE-Countertop-Connectivity-Essentials-Stainless/dp/B09SBT74HX/ref=zg_bs_appliances_sccl_16/140-5995169-8446846?pd_rd_i=B09SM3R3GL&psc=1 GE Profile Opal 2.0 | Countertop Nugget Ice Maker | Ice Machine with WiFi Connectivity | Smart Home Kitchen Essentials | Black Stainless $599.00\n",
      "https://www.amazon.com/Silonn-Countertop-Self-Cleaning-Compact-SLIM02/dp/B09N8T9F8J/ref=zg_bs_appliances_sccl_13/140-5995169-8446846?pd_rd_i=B0B3MY3BC6&psc=1 Silonn Countertop Ice Cube Ice Makers, 45lbs Per Day, Auto Self-Cleaning, 24 Pcs Ice Cubes in 13 Min, 2 Ways to Add Water, Compact Ice Machine for Home Office Bar Party SLIM02 $199.99\n",
      "https://www.amazon.com/Machine-Countertop-Electric-Compact-Potable/dp/B09DYFVR2M/ref=zg_bs_appliances_sccl_5/140-5995169-8446846?pd_rd_i=B09KL1GPY7&psc=1 Euhomy Ice Maker Machine Countertop, 26 lbs in 24 Hours, 9 Cubes Ready in 6 Mins, Self-Clean Electric Ice Maker Compact Potable Ice Maker with Ice Scoop and Basket. for Home/Kitchen/Office.(Black) $149.99\n",
      "https://www.amazon.com/Broan-412402-Capable-Non-Ducted-Under-Cabinet/dp/B000R9E4VK/ref=zg_bs_appliances_sccl_9/140-5995169-8446846?pd_rd_i=B0B6HW9JJ2&psc=1 Broan-NuTone 412402 Non-Ducted Under-Cabinet Ductless Range Hood Insert, 24-Inch, Bisque Broan-NuTone 412401 Non-Ducted Under-Cabinet Ductless Range Hood Insert, 24-Inch, White\n",
      "https://www.amazon.com/Countertop-Portable-Self-Cleaning-Function-Perfect/dp/B09MJWFL31/ref=zg_bs_appliances_sccl_15/140-5995169-8446846?pd_rd_i=B09MJWFL31&psc=1 Ice Makers Countertop, Portable Ice Maker, 26lbs/24Hrs 9 Bullet Ice Cubes Ready in 7 Mins, Self-Cleaning Function, L&S Size, with Ice Scoop and Basket, Perfect for Party, Silver $119.99\n",
      "https://www.amazon.com/Arctic-King-Chest-Freezer-Black/dp/B07TM5FCSD/ref=zg_bs_appliances_sccl_6/140-5995169-8446846?pd_rd_i=B07TM5FCSD&psc=1 Arctic King 7.0 cu ft Chest Freezer in Black $209.99\n",
      "https://www.amazon.com/VIVOHOME-Electric-Portable-Countertop-Automatic/dp/B07T1XPVX3/ref=zg_bs_appliances_sccl_22/140-5995169-8446846?pd_rd_i=B0875XTG1S&psc=1 VIVOHOME Electric Portable Compact Countertop Automatic Ice Cube Maker Machine with Hand Scoop and Self Cleaning Function 26lbs/Day Black $169.99\n"
     ]
    },
    {
     "name": "stdout",
     "output_type": "stream",
     "text": [
      "https://www.amazon.com/Thereye-Countertop-Portable-Self-Cleaning-Stainless/dp/B09MVV717N/ref=zg_bs_appliances_sccl_29/140-5995169-8446846?pd_rd_i=B09MVV717N&psc=1 Thereye Countertop Nugget Ice Maker, Pebble Ice Maker Machine, 30lbs Per Day, 2 Ways Water Refill, 3Qt Water Reservoir & Self-Cleaning, Stainless Steel Finish Ice Machine for Home Office Bar Party $339.99\n",
      "https://www.amazon.com/GE-Profile-Countertop-Nugget-Maker/dp/B07YF9SGBW/ref=zg_bs_appliances_sccl_2/140-5995169-8446846?pd_rd_i=B09YXFTWJS&psc=1 GE Profile Opal | Countertop Nugget Ice Maker with Side Tank | Portable Ice Machine with Bluetooth Connectivity | Smart Home Kitchen Essentials | Stainless Steel Finish | Up to 24 lbs. of Ice Per Day GE Profile Opal 2.0 | Countertop Nugget Ice Maker with Side Tank | Ice Machine with WiFi Connectivity | Smart Home Kitchen Essentials | Stainless Steel\n",
      "https://www.amazon.com/AGLUCKY-Machine-Countertop-Portable-Makers/dp/B08FZYMWJT/ref=zg_bs_appliances_sccl_3/140-5995169-8446846?pd_rd_i=B08L97G5TF&psc=1 AGLUCKY Countertop Ice Maker Machine, Portable Ice Makers Countertop, Make 26 lbs ice in 24 hrs,Ice Cube Rready in 6-8 Mins with Ice Scoop and Basket (Black) $119.99\n"
     ]
    }
   ],
   "source": [
    "extracted_data = perform_scrape(cleaned_items=cleaned_links)"
   ]
  },
  {
   "cell_type": "code",
   "execution_count": 23,
   "id": "52762e11",
   "metadata": {},
   "outputs": [
    {
     "name": "stdout",
     "output_type": "stream",
     "text": [
      "[{'url': 'https://www.amazon.com/Broan-403001-Capable-Under-Cabinet-30-Inch/dp/B000KKMFB2/ref=zg_bs_appliances_sccl_19/140-5995169-8446846?pd_rd_i=B0B1JCXN1N&psc=1', 'product_id': 'B000KKMFB2', 'title': 'Broan-NuTone 30-inch Under-Cabinet Convertible Range Hood with 2-Speed Exhaust Fan and Light, MAX 210 CFM, White', 'price': '$62.00'}, {'url': 'https://www.amazon.com/Silonn-Countertop-Portable-Self-cleaning-Bullet-shaped/dp/B08ZYJ8CRX/ref=zg_bs_appliances_sccl_1/140-5995169-8446846?pd_rd_i=B09BW71ZHK&psc=1', 'product_id': 'B08ZYJ8CRX', 'title': 'Silonn Ice Makers Countertop, 9 Cubes Ready in 6 Mins, 26lbs in 24Hrs, Self-Cleaning Ice Machine with Ice Scoop and Basket, 2 Sizes of Bullet Ice for Home Kitchen Office Bar Party', 'price': '$105.99'}, {'url': 'https://www.amazon.com/FRIGIDAIRE-EFIC189-Silver-Compact-Silver-Packaging/dp/B075QP7SCP/ref=zg_bs_appliances_sccl_8/140-5995169-8446846?pd_rd_i=B075QP7SCP&psc=1', 'product_id': 'B075QP7SCP', 'title': 'FRIGIDAIRE EFIC189-Silver Compact Ice Maker, 26 lb per Day, Silver (Packaging May Vary)', 'price': '$124.90'}, {'url': 'https://www.amazon.com/SPACEKEEPER-Furniture-Extendable-Refrigerators-Dishwashers/dp/B09JFLQT9C/ref=zg_bs_appliances_sccl_28/140-5995169-8446846?pd_rd_i=B09JFJRN42&psc=1', 'product_id': 'B09JFLQT9C', 'title': 'SPACEKEEPER Furniture Dolly Mobile Roller, Extendable Appliance Rollers Mobile Washing Machine Base, Fridge Stand Moving Cart for Washing Machines, Refrigerators, Dryers, Dishwashers, Black', 'price': '$24.99'}, {'url': 'https://www.amazon.com/Gevi-Insulation-Portable-Cleaning-Stainless/dp/B09LYG2S5D/ref=zg_bs_appliances_sccl_23/140-5995169-8446846?pd_rd_i=B09QRZMDHC&psc=1', 'product_id': 'B09LYG2S5D', 'title': 'Gevi Household Nugget Ice Maker with Thick Insulation | Portable Self Cleaning Pellet Ice Machine | Quietly Making Max 29Lb/Day | Stainless Steel Housing | Sleek Design for Home Kitchen RV (Blue)', 'price': '$457.99'}, {'url': 'https://www.amazon.com/Machine-Countertop-Self-Cleaning-Function-Portable/dp/B08TM3TRGL/ref=zg_bs_appliances_sccl_10/140-5995169-8446846?pd_rd_i=B09ZDXYH3Z&psc=1', 'product_id': 'B08TM3TRGL', 'title': 'Ice Maker Machine for Countertop, Self-Cleaning Function, 26Lbs/24H Portable Ice Maker, 9 Ice Ready in 6 Mins, Compact Ice Maker with Ice Scoop & Basket for Home Use/Party/Camping (Black)', 'price': '$159.99'}, {'url': 'https://www.amazon.com/Electactic-Countertop-Efficient-Self-Cleaning-26-6Lbs/dp/B09WHV458W/ref=zg_bs_appliances_sccl_12/140-5995169-8446846?pd_rd_i=B0B4RWT42C&psc=1', 'product_id': 'B09WHV458W', 'title': 'Electactic Ice Maker Countertop, Efficient Easy Carry Ice Maker, Self-Cleaning Ice Maker with Ice Scoop & Basket, 9pcs/ 8mins 26.6Lbs Per Day for Home/Office/Kitchen, Black', 'price': '$89.99'}, {'url': 'https://www.amazon.com/Upstreman-Adjustable-Thermostat-Refrigerator-Black-BR321/dp/B09RWFZTWW/ref=zg_bs_appliances_sccl_14/140-5995169-8446846?pd_rd_i=B09RWFZTWW&psc=1', 'product_id': 'B09RWFZTWW', 'title': 'Upstreman 3.2 Cu.Ft Mini Fridge with Freezer, Single Door Mini Fridge, Adjustable Thermostat, Mini Refrigerator for Dorm, Office, Bedroom, Black-BR321', 'price': '$192.97'}, {'url': 'https://www.amazon.com/Countertop-Portable-Self-Cleaning-Function-Operation/dp/B09NLXL5DP/ref=zg_bs_appliances_sccl_17/140-5995169-8446846?pd_rd_i=B0B49ZSDFP&psc=1', 'product_id': 'B09NLXL5DP', 'title': 'Ice Maker Countertop, Fast ice Making in 6 Mins, 26.5lbs/24Hrs 9 Bullet Ice, Portable Ice Maker Machine with Self-Cleaning, Ice Scoop and Basket, Bullet-Shaped Ice Maker for Home/Kitchen/Office/Party', 'price': '$103.99'}, {'url': 'https://www.amazon.com/Midea-MRC04M3AWW-White-Freezer-Cubic/dp/B00MVVITWC/ref=zg_bs_appliances_sccl_27/140-5995169-8446846?pd_rd_i=B0B4YS19SH&psc=1', 'product_id': 'B00MVVITWC', 'title': 'Midea MRC04M3AWW, White 3.5 cu. ft. Mini Freezer, Cubic Feet', 'price': '$325.85'}, {'url': 'https://www.amazon.com/Essential-Values-Machine-Cleaner-Matic/dp/B07QVMXTDL/ref=zg_bs_appliances_sccl_7/140-5995169-8446846?pd_rd_i=B09MW79GWY&psc=1', 'product_id': 'B07QVMXTDL', 'title': '2-Pack Ice Machine Cleaner and Descaler 16 fl oz, Nickel Safe Descaler | Ice Maker Cleaner Compatible with All Major Brands (Scotsman, KitchenAid, Affresh) - Made in USA by Essential Values', 'price': '$20.99'}, {'url': 'https://www.amazon.com/COMFEE-WQP4-2601-Dishwasher-Place-Settings/dp/B092227VYL/ref=zg_bs_appliances_sccl_18/140-5995169-8446846?pd_rd_i=B0B78B1JC6&psc=1', 'product_id': 'B092227VYL', 'title': \"COMFEE' Countertop Dishwasher, Portable Dishwasher with 5L Built-in Water Tank, No Hookup Needed, 6 Programs, 360° Dual Spray, 192℉ Steam& Air-Dry Function, Mini Dishwasher for Apartments& RVs, White\", 'price': '$272.04'}, {'url': 'https://www.amazon.com/Proctor-Silex-Adjustable-Temperature-34106/dp/B086BYH8LJ/ref=zg_bs_appliances_sccl_30/140-5995169-8446846?pd_rd_i=B09T6KM6RC&psc=1', 'product_id': 'B086BYH8LJ', 'title': 'Proctor Silex Electric Single Burner Cooktop, Compact and Portable, Adjustable Temperature Hot Plate, 1200 Watts, White & Stainless (34106)', 'price': '$24.49'}, {'url': 'https://www.amazon.com/hOmeLabs-Portable-Maker-Machine-Countertop/dp/B071J2LSQS/ref=zg_bs_appliances_sccl_4/140-5995169-8446846?pd_rd_i=B071J2LSQS&psc=1', 'product_id': 'B071J2LSQS', 'title': 'hOmeLabs Portable Ice Maker Machine for Counter Top - Makes 26 lbs of Ice per 24 hours - Ice Cubes ready in 6 Minutes - Electric Ice Making Machine with Ice Scoop and 1.5 lb Ice Storage - Silver', 'price': '$89.99'}, {'url': 'https://www.amazon.com/Premium-Clear-Ball-Maker-Mold/dp/B08PFHQPG9/ref=zg_bs_appliances_sccl_25/140-5995169-8446846?pd_rd_i=B09YDDRZ9M&psc=1', 'product_id': 'B08PFHQPG9', 'title': 'Premium Clear Ice Ball Maker Mold - Whiskey Ice Ball Maker Large 2.4 Inch - Crystal Clear Ice Maker Sphere - Sphere Ice Mold Maker with Storage Bag - Clear Ice Mold for Clear Sphere Ball Ice Maker', 'price': '$59.95'}, {'url': 'https://www.amazon.com/Arctic-King-Chest-Freezer-Black/dp/B0827CKHHF/ref=zg_bs_appliances_sccl_11/140-5995169-8446846?pd_rd_i=B0827CKHHF&psc=1', 'product_id': 'B0827CKHHF', 'title': 'Arctic King Chest Freezer 5 cu ft (Black)', 'price': 'Page 1 of 1'}, {'url': 'https://www.amazon.com/Frigidaire-EFIC103AMZ-SSBLACK-SC-SELF-CLEANING-AMZ-SSBLACK-SC/dp/B0932LK6XV/ref=zg_bs_appliances_sccl_26/140-5995169-8446846?pd_rd_i=B098W5ND23&psc=1', 'product_id': 'B0932LK6XV', 'title': 'Frigidaire EFIC103AMZ-SSBLACK-SC SELF CLEANING AMZ-SSBLACK-SC EFIC103 Maker Machine Heavy Duty, 26lb Ice per Day, Stainless Steel, Black Stainless', 'price': '$140.71'}, {'url': 'https://www.amazon.com/Frigidaire-Countertop-Maker-Black-Stainless/dp/B07J1YVSNQ/ref=zg_bs_appliances_sccl_20/140-5995169-8446846?pd_rd_i=B09QZBY2LR&psc=1', 'product_id': 'B07J1YVSNQ', 'title': 'Frigidaire EFIC117-SSBLACK-COM EFIC117-SSBLACK 26 Lbs Portable Compact Maker, Stainless Steel Ice Making Machine, Medium, Black Stainless', 'price': '$108.00'}, {'url': 'https://www.amazon.com/AGLUCKY-Countertop-Protable-Machine-Self-Cleaning/dp/B09V4VFJFG/ref=zg_bs_appliances_sccl_21/140-5995169-8446846?pd_rd_i=B0B1GV77CN&psc=1', 'product_id': 'B09V4VFJFG', 'title': 'AGLUCKY Ice Makers Countertop,Protable Ice Maker Machine with Handel,Self-Cleaning Ice Maker, 26Lbs/24H, 9 Ice Cubes Ready in 8 Mins, for Home/Office/Kitchen', 'price': '$109.99'}, {'url': 'https://www.amazon.com/GE-Countertop-Connectivity-Essentials-Stainless/dp/B09SBT74HX/ref=zg_bs_appliances_sccl_16/140-5995169-8446846?pd_rd_i=B09SM3R3GL&psc=1', 'product_id': 'B09SBT74HX', 'title': 'GE Profile Opal 2.0 | Countertop Nugget Ice Maker | Ice Machine with WiFi Connectivity | Smart Home Kitchen Essentials | Black Stainless', 'price': '$599.00'}, {'url': 'https://www.amazon.com/Silonn-Countertop-Self-Cleaning-Compact-SLIM02/dp/B09N8T9F8J/ref=zg_bs_appliances_sccl_13/140-5995169-8446846?pd_rd_i=B0B3MY3BC6&psc=1', 'product_id': 'B09N8T9F8J', 'title': 'Silonn Countertop Ice Cube Ice Makers, 45lbs Per Day, Auto Self-Cleaning, 24 Pcs Ice Cubes in 13 Min, 2 Ways to Add Water, Compact Ice Machine for Home Office Bar Party SLIM02', 'price': '$199.99'}, {'url': 'https://www.amazon.com/Machine-Countertop-Electric-Compact-Potable/dp/B09DYFVR2M/ref=zg_bs_appliances_sccl_5/140-5995169-8446846?pd_rd_i=B09KL1GPY7&psc=1', 'product_id': 'B09DYFVR2M', 'title': 'Euhomy Ice Maker Machine Countertop, 26 lbs in 24 Hours, 9 Cubes Ready in 6 Mins, Self-Clean Electric Ice Maker Compact Potable Ice Maker with Ice Scoop and Basket. for Home/Kitchen/Office.(Black)', 'price': '$149.99'}, {'url': 'https://www.amazon.com/Broan-412402-Capable-Non-Ducted-Under-Cabinet/dp/B000R9E4VK/ref=zg_bs_appliances_sccl_9/140-5995169-8446846?pd_rd_i=B0B6HW9JJ2&psc=1', 'product_id': 'B000R9E4VK', 'title': 'Broan-NuTone 412402 Non-Ducted Under-Cabinet Ductless Range Hood Insert, 24-Inch, Bisque', 'price': 'Broan-NuTone 412401 Non-Ducted Under-Cabinet Ductless Range Hood Insert, 24-Inch, White'}, {'url': 'https://www.amazon.com/Countertop-Portable-Self-Cleaning-Function-Perfect/dp/B09MJWFL31/ref=zg_bs_appliances_sccl_15/140-5995169-8446846?pd_rd_i=B09MJWFL31&psc=1', 'product_id': 'B09MJWFL31', 'title': 'Ice Makers Countertop, Portable Ice Maker, 26lbs/24Hrs 9 Bullet Ice Cubes Ready in 7 Mins, Self-Cleaning Function, L&S Size, with Ice Scoop and Basket, Perfect for Party, Silver', 'price': '$119.99'}, {'url': 'https://www.amazon.com/Arctic-King-Chest-Freezer-Black/dp/B07TM5FCSD/ref=zg_bs_appliances_sccl_6/140-5995169-8446846?pd_rd_i=B07TM5FCSD&psc=1', 'product_id': 'B07TM5FCSD', 'title': 'Arctic King 7.0 cu ft Chest Freezer in Black', 'price': '$209.99'}, {'url': 'https://www.amazon.com/VIVOHOME-Electric-Portable-Countertop-Automatic/dp/B07T1XPVX3/ref=zg_bs_appliances_sccl_22/140-5995169-8446846?pd_rd_i=B0875XTG1S&psc=1', 'product_id': 'B07T1XPVX3', 'title': 'VIVOHOME Electric Portable Compact Countertop Automatic Ice Cube Maker Machine with Hand Scoop and Self Cleaning Function 26lbs/Day Black', 'price': '$169.99'}, {'url': 'https://www.amazon.com/Thereye-Countertop-Portable-Self-Cleaning-Stainless/dp/B09MVV717N/ref=zg_bs_appliances_sccl_29/140-5995169-8446846?pd_rd_i=B09MVV717N&psc=1', 'product_id': 'B09MVV717N', 'title': 'Thereye Countertop Nugget Ice Maker, Pebble Ice Maker Machine, 30lbs Per Day, 2 Ways Water Refill, 3Qt Water Reservoir & Self-Cleaning, Stainless Steel Finish Ice Machine for Home Office Bar Party', 'price': '$339.99'}, {'url': 'https://www.amazon.com/GE-Profile-Countertop-Nugget-Maker/dp/B07YF9SGBW/ref=zg_bs_appliances_sccl_2/140-5995169-8446846?pd_rd_i=B09YXFTWJS&psc=1', 'product_id': 'B07YF9SGBW', 'title': 'GE Profile Opal | Countertop Nugget Ice Maker with Side Tank | Portable Ice Machine with Bluetooth Connectivity | Smart Home Kitchen Essentials | Stainless Steel Finish | Up to 24 lbs. of Ice Per Day', 'price': 'GE Profile Opal 2.0 | Countertop Nugget Ice Maker with Side Tank | Ice Machine with WiFi Connectivity | Smart Home Kitchen Essentials | Stainless Steel'}, {'url': 'https://www.amazon.com/AGLUCKY-Machine-Countertop-Portable-Makers/dp/B08FZYMWJT/ref=zg_bs_appliances_sccl_3/140-5995169-8446846?pd_rd_i=B08L97G5TF&psc=1', 'product_id': 'B08FZYMWJT', 'title': 'AGLUCKY Countertop Ice Maker Machine, Portable Ice Makers Countertop, Make 26 lbs ice in 24 hrs,Ice Cube Rready in 6-8 Mins with Ice Scoop and Basket (Black)', 'price': '$119.99'}]\n"
     ]
    }
   ],
   "source": [
    "print(extracted_data)"
   ]
  }
 ],
 "metadata": {
  "kernelspec": {
   "display_name": "Python 3 (ipykernel)",
   "language": "python",
   "name": "python3"
  },
  "language_info": {
   "codemirror_mode": {
    "name": "ipython",
    "version": 3
   },
   "file_extension": ".py",
   "mimetype": "text/x-python",
   "name": "python",
   "nbconvert_exporter": "python",
   "pygments_lexer": "ipython3",
   "version": "3.10.1"
  }
 },
 "nbformat": 4,
 "nbformat_minor": 5
}
