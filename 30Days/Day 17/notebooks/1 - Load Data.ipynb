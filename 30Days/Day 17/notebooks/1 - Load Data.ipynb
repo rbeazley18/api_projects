{
 "cells": [
  {
   "cell_type": "code",
   "execution_count": 4,
   "id": "e1e77e5c",
   "metadata": {},
   "outputs": [],
   "source": [
    "import os\n",
    "import pandas as pd"
   ]
  },
  {
   "cell_type": "code",
   "execution_count": 18,
   "id": "5c792e8d",
   "metadata": {},
   "outputs": [
    {
     "name": "stdout",
     "output_type": "stream",
     "text": [
      "C:\\Users\\rober\\coding\\api_projects\\30Days\\Day 17\\notebooks\n"
     ]
    }
   ],
   "source": [
    "cwd = os.getcwd()\n",
    "print(cwd)\n",
    "BASE_DIR = os.path.dirname(cwd)\n",
    "DATA_DIR = os.path.join(BASE_DIR, 'data')"
   ]
  },
  {
   "cell_type": "code",
   "execution_count": 19,
   "id": "f0555638",
   "metadata": {
    "scrolled": false
   },
   "outputs": [
    {
     "data": {
      "text/plain": [
       "['1999.csv',\n",
       " '2000.csv',\n",
       " '2001.csv',\n",
       " '2002.csv',\n",
       " '2003.csv',\n",
       " '2004.csv',\n",
       " '2005.csv',\n",
       " '2006.csv',\n",
       " '2007.csv',\n",
       " '2008.csv',\n",
       " '2009.csv',\n",
       " '2010.csv',\n",
       " '2011.csv',\n",
       " '2012.csv',\n",
       " '2013.csv',\n",
       " '2014.csv',\n",
       " '2015.csv',\n",
       " '2016.csv',\n",
       " '2017.csv',\n",
       " '2018.csv',\n",
       " '2019.csv',\n",
       " '2020.csv',\n",
       " '2021.csv',\n",
       " '2022.csv']"
      ]
     },
     "execution_count": 19,
     "metadata": {},
     "output_type": "execute_result"
    }
   ],
   "source": [
    "os.listdir(DATA_DIR)"
   ]
  },
  {
   "cell_type": "code",
   "execution_count": 9,
   "id": "5efe1667",
   "metadata": {},
   "outputs": [],
   "source": [
    "my_items = [{'category':'Action', 'title':'My Movie'}, {'category': 'Comedy', 'title': 'Data Jokes'}]\n",
    "df = pd.DataFrame(my_items)"
   ]
  },
  {
   "cell_type": "code",
   "execution_count": 10,
   "id": "bfd1945c",
   "metadata": {},
   "outputs": [
    {
     "data": {
      "text/html": [
       "<div>\n",
       "<style scoped>\n",
       "    .dataframe tbody tr th:only-of-type {\n",
       "        vertical-align: middle;\n",
       "    }\n",
       "\n",
       "    .dataframe tbody tr th {\n",
       "        vertical-align: top;\n",
       "    }\n",
       "\n",
       "    .dataframe thead th {\n",
       "        text-align: right;\n",
       "    }\n",
       "</style>\n",
       "<table border=\"1\" class=\"dataframe\">\n",
       "  <thead>\n",
       "    <tr style=\"text-align: right;\">\n",
       "      <th></th>\n",
       "      <th>category</th>\n",
       "      <th>title</th>\n",
       "    </tr>\n",
       "  </thead>\n",
       "  <tbody>\n",
       "    <tr>\n",
       "      <th>0</th>\n",
       "      <td>Action</td>\n",
       "      <td>My Movie</td>\n",
       "    </tr>\n",
       "    <tr>\n",
       "      <th>1</th>\n",
       "      <td>Comedy</td>\n",
       "      <td>Data Jokes</td>\n",
       "    </tr>\n",
       "  </tbody>\n",
       "</table>\n",
       "</div>"
      ],
      "text/plain": [
       "  category       title\n",
       "0   Action    My Movie\n",
       "1   Comedy  Data Jokes"
      ]
     },
     "execution_count": 10,
     "metadata": {},
     "output_type": "execute_result"
    }
   ],
   "source": [
    "df.head()"
   ]
  },
  {
   "cell_type": "code",
   "execution_count": 11,
   "id": "4eb5d2a8",
   "metadata": {},
   "outputs": [
    {
     "data": {
      "text/plain": [
       "0    Action\n",
       "1    Comedy\n",
       "Name: category, dtype: object"
      ]
     },
     "execution_count": 11,
     "metadata": {},
     "output_type": "execute_result"
    }
   ],
   "source": [
    "df['category']"
   ]
  },
  {
   "cell_type": "code",
   "execution_count": 14,
   "id": "bc8446ba",
   "metadata": {},
   "outputs": [
    {
     "name": "stdout",
     "output_type": "stream",
     "text": [
      "True\n"
     ]
    }
   ],
   "source": [
    "my_data = os.path.join(DATA_DIR, '2020.csv')\n",
    "print(os.path.exists(my_data))"
   ]
  },
  {
   "cell_type": "code",
   "execution_count": 15,
   "id": "2fa8c6bb",
   "metadata": {},
   "outputs": [],
   "source": [
    "df2 = pd.read_csv(my_data)"
   ]
  },
  {
   "cell_type": "code",
   "execution_count": 16,
   "id": "655f7d43",
   "metadata": {},
   "outputs": [
    {
     "data": {
      "text/html": [
       "<div>\n",
       "<style scoped>\n",
       "    .dataframe tbody tr th:only-of-type {\n",
       "        vertical-align: middle;\n",
       "    }\n",
       "\n",
       "    .dataframe tbody tr th {\n",
       "        vertical-align: top;\n",
       "    }\n",
       "\n",
       "    .dataframe thead th {\n",
       "        text-align: right;\n",
       "    }\n",
       "</style>\n",
       "<table border=\"1\" class=\"dataframe\">\n",
       "  <thead>\n",
       "    <tr style=\"text-align: right;\">\n",
       "      <th></th>\n",
       "      <th>Rank</th>\n",
       "      <th>Release Group</th>\n",
       "      <th>Worldwide</th>\n",
       "      <th>Domestic</th>\n",
       "      <th>%</th>\n",
       "      <th>Foreign</th>\n",
       "      <th>%.1</th>\n",
       "    </tr>\n",
       "  </thead>\n",
       "  <tbody>\n",
       "    <tr>\n",
       "      <th>0</th>\n",
       "      <td>1</td>\n",
       "      <td>The Eight Hundred</td>\n",
       "      <td>$461,421,559</td>\n",
       "      <td>$372,755</td>\n",
       "      <td>&lt;0.1%</td>\n",
       "      <td>$461,048,804</td>\n",
       "      <td>99.9%</td>\n",
       "    </tr>\n",
       "    <tr>\n",
       "      <th>1</th>\n",
       "      <td>2</td>\n",
       "      <td>Demon Slayer the Movie: Mugen Train</td>\n",
       "      <td>$453,210,959</td>\n",
       "      <td>$49,505,008</td>\n",
       "      <td>10.9%</td>\n",
       "      <td>$403,705,951</td>\n",
       "      <td>89.1%</td>\n",
       "    </tr>\n",
       "    <tr>\n",
       "      <th>2</th>\n",
       "      <td>3</td>\n",
       "      <td>Bad Boys for Life</td>\n",
       "      <td>$426,505,244</td>\n",
       "      <td>$206,305,244</td>\n",
       "      <td>48.4%</td>\n",
       "      <td>$220,200,000</td>\n",
       "      <td>51.6%</td>\n",
       "    </tr>\n",
       "    <tr>\n",
       "      <th>3</th>\n",
       "      <td>4</td>\n",
       "      <td>My People, My Homeland</td>\n",
       "      <td>$422,390,820</td>\n",
       "      <td>-</td>\n",
       "      <td>-</td>\n",
       "      <td>$422,390,820</td>\n",
       "      <td>100%</td>\n",
       "    </tr>\n",
       "    <tr>\n",
       "      <th>4</th>\n",
       "      <td>5</td>\n",
       "      <td>Tenet</td>\n",
       "      <td>$365,294,355</td>\n",
       "      <td>$58,504,105</td>\n",
       "      <td>16%</td>\n",
       "      <td>$306,790,250</td>\n",
       "      <td>84%</td>\n",
       "    </tr>\n",
       "    <tr>\n",
       "      <th>5</th>\n",
       "      <td>6</td>\n",
       "      <td>Sonic the Hedgehog</td>\n",
       "      <td>$319,715,683</td>\n",
       "      <td>$148,974,665</td>\n",
       "      <td>46.6%</td>\n",
       "      <td>$170,741,018</td>\n",
       "      <td>53.4%</td>\n",
       "    </tr>\n",
       "    <tr>\n",
       "      <th>6</th>\n",
       "      <td>7</td>\n",
       "      <td>Dolittle</td>\n",
       "      <td>$245,439,115</td>\n",
       "      <td>$77,047,065</td>\n",
       "      <td>31.4%</td>\n",
       "      <td>$168,392,050</td>\n",
       "      <td>68.6%</td>\n",
       "    </tr>\n",
       "    <tr>\n",
       "      <th>7</th>\n",
       "      <td>8</td>\n",
       "      <td>Legend of Deification</td>\n",
       "      <td>$240,663,149</td>\n",
       "      <td>$214,670</td>\n",
       "      <td>&lt;0.1%</td>\n",
       "      <td>$240,448,479</td>\n",
       "      <td>99.9%</td>\n",
       "    </tr>\n",
       "    <tr>\n",
       "      <th>8</th>\n",
       "      <td>9</td>\n",
       "      <td>A Little Red Flower</td>\n",
       "      <td>$216,000,000</td>\n",
       "      <td>-</td>\n",
       "      <td>-</td>\n",
       "      <td>$216,000,000</td>\n",
       "      <td>100%</td>\n",
       "    </tr>\n",
       "    <tr>\n",
       "      <th>9</th>\n",
       "      <td>10</td>\n",
       "      <td>The Croods: A New Age</td>\n",
       "      <td>$215,905,815</td>\n",
       "      <td>$58,568,815</td>\n",
       "      <td>27.1%</td>\n",
       "      <td>$157,337,000</td>\n",
       "      <td>72.9%</td>\n",
       "    </tr>\n",
       "  </tbody>\n",
       "</table>\n",
       "</div>"
      ],
      "text/plain": [
       "   Rank                        Release Group     Worldwide      Domestic  \\\n",
       "0     1                    The Eight Hundred  $461,421,559      $372,755   \n",
       "1     2  Demon Slayer the Movie: Mugen Train  $453,210,959   $49,505,008   \n",
       "2     3                    Bad Boys for Life  $426,505,244  $206,305,244   \n",
       "3     4               My People, My Homeland  $422,390,820             -   \n",
       "4     5                                Tenet  $365,294,355   $58,504,105   \n",
       "5     6                   Sonic the Hedgehog  $319,715,683  $148,974,665   \n",
       "6     7                             Dolittle  $245,439,115   $77,047,065   \n",
       "7     8                Legend of Deification  $240,663,149      $214,670   \n",
       "8     9                  A Little Red Flower  $216,000,000             -   \n",
       "9    10                The Croods: A New Age  $215,905,815   $58,568,815   \n",
       "\n",
       "       %       Foreign    %.1  \n",
       "0  <0.1%  $461,048,804  99.9%  \n",
       "1  10.9%  $403,705,951  89.1%  \n",
       "2  48.4%  $220,200,000  51.6%  \n",
       "3      -  $422,390,820   100%  \n",
       "4    16%  $306,790,250    84%  \n",
       "5  46.6%  $170,741,018  53.4%  \n",
       "6  31.4%  $168,392,050  68.6%  \n",
       "7  <0.1%  $240,448,479  99.9%  \n",
       "8      -  $216,000,000   100%  \n",
       "9  27.1%  $157,337,000  72.9%  "
      ]
     },
     "execution_count": 16,
     "metadata": {},
     "output_type": "execute_result"
    }
   ],
   "source": [
    "df2.head(n=10)"
   ]
  },
  {
   "cell_type": "code",
   "execution_count": null,
   "id": "01f946fb",
   "metadata": {},
   "outputs": [],
   "source": []
  }
 ],
 "metadata": {
  "kernelspec": {
   "display_name": "Python 3 (ipykernel)",
   "language": "python",
   "name": "python3"
  },
  "language_info": {
   "codemirror_mode": {
    "name": "ipython",
    "version": 3
   },
   "file_extension": ".py",
   "mimetype": "text/x-python",
   "name": "python",
   "nbconvert_exporter": "python",
   "pygments_lexer": "ipython3",
   "version": "3.10.1"
  }
 },
 "nbformat": 4,
 "nbformat_minor": 5
}
